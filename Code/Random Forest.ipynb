{
 "cells": [
  {
   "cell_type": "code",
   "execution_count": 1,
   "metadata": {
    "executionInfo": {
     "elapsed": 843,
     "status": "ok",
     "timestamp": 1629477447704,
     "user": {
      "displayName": "Jaehee Kim",
      "photoUrl": "",
      "userId": "18030231322356011220"
     },
     "user_tz": 240
    },
    "id": "G5qJ5cWPiFg-"
   },
   "outputs": [],
   "source": [
    "from sklearn.model_selection import train_test_split\n",
    "from sklearn.tree import DecisionTreeClassifier"
   ]
  },
  {
   "cell_type": "code",
   "execution_count": 2,
   "metadata": {
    "executionInfo": {
     "elapsed": 137,
     "status": "ok",
     "timestamp": 1629477447839,
     "user": {
      "displayName": "Jaehee Kim",
      "photoUrl": "",
      "userId": "18030231322356011220"
     },
     "user_tz": 240
    },
    "id": "_EBDMTnWqxQJ"
   },
   "outputs": [],
   "source": [
    "import pandas as pd\n",
    "import numpy as np\n",
    "import io"
   ]
  },
  {
   "cell_type": "code",
   "execution_count": 3,
   "metadata": {
    "executionInfo": {
     "elapsed": 1494,
     "status": "ok",
     "timestamp": 1629477449330,
     "user": {
      "displayName": "Jaehee Kim",
      "photoUrl": "",
      "userId": "18030231322356011220"
     },
     "user_tz": 240
    },
    "id": "cAYvn3sqiFEE"
   },
   "outputs": [],
   "source": [
    "shp_RF=pd.read_csv('/content/drive/MyDrive/Machine Learning For Cities/final/shp_RF.csv')\n",
    "weekday_RF=pd.read_csv('/content/drive/MyDrive/Machine Learning For Cities/final/weekday_RF.csv')\n",
    "weekend_RF=pd.read_csv('/content/drive/MyDrive/Machine Learning For Cities/final/weekend_RF.csv')\n",
    "direction=pd.read_csv('https://raw.githubusercontent.com/jehee1122/MLC-Final_traffic-problem-in-NYC/main/Data%20Cleaning/grouped%20data_seg_with%20direction.csv')"
   ]
  },
  {
   "cell_type": "code",
   "execution_count": 4,
   "metadata": {
    "colab": {
     "base_uri": "https://localhost:8080/"
    },
    "executionInfo": {
     "elapsed": 14,
     "status": "ok",
     "timestamp": 1629477449331,
     "user": {
      "displayName": "Jaehee Kim",
      "photoUrl": "",
      "userId": "18030231322356011220"
     },
     "user_tz": 240
    },
    "id": "SLGSmMI9rIfD",
    "outputId": "c13ea42a-ed4a-4b4c-a4da-5c133d12e96e"
   },
   "outputs": [
    {
     "data": {
      "text/plain": [
       "Index(['Unnamed: 0', 'label', 'daily_volume', 'Segment ID'], dtype='object')"
      ]
     },
     "execution_count": 4,
     "metadata": {},
     "output_type": "execute_result"
    }
   ],
   "source": [
    "weekday_RF.columns"
   ]
  },
  {
   "cell_type": "code",
   "execution_count": 5,
   "metadata": {
    "colab": {
     "base_uri": "https://localhost:8080/"
    },
    "executionInfo": {
     "elapsed": 9,
     "status": "ok",
     "timestamp": 1629477449331,
     "user": {
      "displayName": "Jaehee Kim",
      "photoUrl": "",
      "userId": "18030231322356011220"
     },
     "user_tz": 240
    },
    "id": "xqucCpLgt8un",
    "outputId": "a5adcfd8-6b96-4988-d5f7-65cab117d6d9"
   },
   "outputs": [
    {
     "data": {
      "text/plain": [
       "Index(['Unnamed: 0', 'StreetWidt', 'BikeLane', 'TRUCK_ROUT', 'SHAPE_Leng',\n",
       "       'SegmentTyp', 'SegmentID'],\n",
       "      dtype='object')"
      ]
     },
     "execution_count": 5,
     "metadata": {},
     "output_type": "execute_result"
    }
   ],
   "source": [
    "shp_RF.columns"
   ]
  },
  {
   "cell_type": "code",
   "execution_count": 6,
   "metadata": {
    "executionInfo": {
     "elapsed": 7,
     "status": "ok",
     "timestamp": 1629477449332,
     "user": {
      "displayName": "Jaehee Kim",
      "photoUrl": "",
      "userId": "18030231322356011220"
     },
     "user_tz": 240
    },
    "id": "xAXks1JcuBwd"
   },
   "outputs": [],
   "source": [
    "shp_RF['TRUCK_ROUT'] = shp_RF['TRUCK_ROUT'].replace(np.nan, 0)"
   ]
  },
  {
   "cell_type": "code",
   "execution_count": 7,
   "metadata": {
    "executionInfo": {
     "elapsed": 137,
     "status": "ok",
     "timestamp": 1629477449462,
     "user": {
      "displayName": "Jaehee Kim",
      "photoUrl": "",
      "userId": "18030231322356011220"
     },
     "user_tz": 240
    },
    "id": "O7COPwKTrNd8"
   },
   "outputs": [],
   "source": [
    "shp_RF['BikeLane'] = shp_RF['BikeLane'].replace(np.nan, 0)"
   ]
  },
  {
   "cell_type": "code",
   "execution_count": 8,
   "metadata": {
    "colab": {
     "base_uri": "https://localhost:8080/"
    },
    "executionInfo": {
     "elapsed": 141,
     "status": "ok",
     "timestamp": 1629477449467,
     "user": {
      "displayName": "Jaehee Kim",
      "photoUrl": "",
      "userId": "18030231322356011220"
     },
     "user_tz": 240
    },
    "id": "1rWqiBbJwRnZ",
    "outputId": "c3083ade-15f0-46c9-bc3f-cecf10a6d1e9"
   },
   "outputs": [
    {
     "name": "stdout",
     "output_type": "stream",
     "text": [
      "<class 'pandas.core.frame.DataFrame'>\n",
      "RangeIndex: 233447 entries, 0 to 233446\n",
      "Data columns (total 7 columns):\n",
      " #   Column      Non-Null Count   Dtype  \n",
      "---  ------      --------------   -----  \n",
      " 0   Unnamed: 0  233447 non-null  int64  \n",
      " 1   StreetWidt  233447 non-null  float64\n",
      " 2   BikeLane    233447 non-null  float64\n",
      " 3   TRUCK_ROUT  233447 non-null  float64\n",
      " 4   SHAPE_Leng  233447 non-null  float64\n",
      " 5   SegmentTyp  233447 non-null  object \n",
      " 6   SegmentID   233447 non-null  int64  \n",
      "dtypes: float64(4), int64(2), object(1)\n",
      "memory usage: 12.5+ MB\n"
     ]
    }
   ],
   "source": [
    "shp_RF.info()"
   ]
  },
  {
   "cell_type": "code",
   "execution_count": 9,
   "metadata": {
    "colab": {
     "base_uri": "https://localhost:8080/",
     "height": 416
    },
    "executionInfo": {
     "elapsed": 11,
     "status": "ok",
     "timestamp": 1629477449468,
     "user": {
      "displayName": "Jaehee Kim",
      "photoUrl": "",
      "userId": "18030231322356011220"
     },
     "user_tz": 240
    },
    "id": "mjZqfDeZwt0v",
    "outputId": "2e4df71c-5c3a-4f68-bb18-1a4e35dfa071"
   },
   "outputs": [
    {
     "data": {
      "text/html": [
       "<div>\n",
       "<style scoped>\n",
       "    .dataframe tbody tr th:only-of-type {\n",
       "        vertical-align: middle;\n",
       "    }\n",
       "\n",
       "    .dataframe tbody tr th {\n",
       "        vertical-align: top;\n",
       "    }\n",
       "\n",
       "    .dataframe thead th {\n",
       "        text-align: right;\n",
       "    }\n",
       "</style>\n",
       "<table border=\"1\" class=\"dataframe\">\n",
       "  <thead>\n",
       "    <tr style=\"text-align: right;\">\n",
       "      <th></th>\n",
       "      <th>B</th>\n",
       "      <th>C</th>\n",
       "      <th>E</th>\n",
       "      <th>F</th>\n",
       "      <th>G</th>\n",
       "      <th>R</th>\n",
       "      <th>S</th>\n",
       "      <th>T</th>\n",
       "      <th>U</th>\n",
       "    </tr>\n",
       "  </thead>\n",
       "  <tbody>\n",
       "    <tr>\n",
       "      <th>0</th>\n",
       "      <td>0</td>\n",
       "      <td>0</td>\n",
       "      <td>0</td>\n",
       "      <td>0</td>\n",
       "      <td>0</td>\n",
       "      <td>0</td>\n",
       "      <td>0</td>\n",
       "      <td>0</td>\n",
       "      <td>1</td>\n",
       "    </tr>\n",
       "    <tr>\n",
       "      <th>1</th>\n",
       "      <td>0</td>\n",
       "      <td>0</td>\n",
       "      <td>0</td>\n",
       "      <td>0</td>\n",
       "      <td>0</td>\n",
       "      <td>0</td>\n",
       "      <td>0</td>\n",
       "      <td>0</td>\n",
       "      <td>1</td>\n",
       "    </tr>\n",
       "    <tr>\n",
       "      <th>2</th>\n",
       "      <td>0</td>\n",
       "      <td>0</td>\n",
       "      <td>0</td>\n",
       "      <td>0</td>\n",
       "      <td>0</td>\n",
       "      <td>0</td>\n",
       "      <td>0</td>\n",
       "      <td>0</td>\n",
       "      <td>1</td>\n",
       "    </tr>\n",
       "    <tr>\n",
       "      <th>3</th>\n",
       "      <td>0</td>\n",
       "      <td>0</td>\n",
       "      <td>0</td>\n",
       "      <td>0</td>\n",
       "      <td>0</td>\n",
       "      <td>0</td>\n",
       "      <td>0</td>\n",
       "      <td>0</td>\n",
       "      <td>1</td>\n",
       "    </tr>\n",
       "    <tr>\n",
       "      <th>4</th>\n",
       "      <td>0</td>\n",
       "      <td>0</td>\n",
       "      <td>0</td>\n",
       "      <td>0</td>\n",
       "      <td>0</td>\n",
       "      <td>0</td>\n",
       "      <td>0</td>\n",
       "      <td>0</td>\n",
       "      <td>1</td>\n",
       "    </tr>\n",
       "    <tr>\n",
       "      <th>...</th>\n",
       "      <td>...</td>\n",
       "      <td>...</td>\n",
       "      <td>...</td>\n",
       "      <td>...</td>\n",
       "      <td>...</td>\n",
       "      <td>...</td>\n",
       "      <td>...</td>\n",
       "      <td>...</td>\n",
       "      <td>...</td>\n",
       "    </tr>\n",
       "    <tr>\n",
       "      <th>233442</th>\n",
       "      <td>0</td>\n",
       "      <td>0</td>\n",
       "      <td>0</td>\n",
       "      <td>0</td>\n",
       "      <td>0</td>\n",
       "      <td>0</td>\n",
       "      <td>0</td>\n",
       "      <td>0</td>\n",
       "      <td>1</td>\n",
       "    </tr>\n",
       "    <tr>\n",
       "      <th>233443</th>\n",
       "      <td>0</td>\n",
       "      <td>0</td>\n",
       "      <td>0</td>\n",
       "      <td>0</td>\n",
       "      <td>0</td>\n",
       "      <td>0</td>\n",
       "      <td>0</td>\n",
       "      <td>0</td>\n",
       "      <td>1</td>\n",
       "    </tr>\n",
       "    <tr>\n",
       "      <th>233444</th>\n",
       "      <td>0</td>\n",
       "      <td>0</td>\n",
       "      <td>0</td>\n",
       "      <td>0</td>\n",
       "      <td>0</td>\n",
       "      <td>0</td>\n",
       "      <td>0</td>\n",
       "      <td>0</td>\n",
       "      <td>1</td>\n",
       "    </tr>\n",
       "    <tr>\n",
       "      <th>233445</th>\n",
       "      <td>0</td>\n",
       "      <td>0</td>\n",
       "      <td>0</td>\n",
       "      <td>0</td>\n",
       "      <td>0</td>\n",
       "      <td>0</td>\n",
       "      <td>0</td>\n",
       "      <td>0</td>\n",
       "      <td>1</td>\n",
       "    </tr>\n",
       "    <tr>\n",
       "      <th>233446</th>\n",
       "      <td>0</td>\n",
       "      <td>0</td>\n",
       "      <td>0</td>\n",
       "      <td>0</td>\n",
       "      <td>0</td>\n",
       "      <td>0</td>\n",
       "      <td>0</td>\n",
       "      <td>0</td>\n",
       "      <td>1</td>\n",
       "    </tr>\n",
       "  </tbody>\n",
       "</table>\n",
       "<p>233447 rows × 9 columns</p>\n",
       "</div>"
      ],
      "text/plain": [
       "        B  C  E  F  G  R  S  T  U\n",
       "0       0  0  0  0  0  0  0  0  1\n",
       "1       0  0  0  0  0  0  0  0  1\n",
       "2       0  0  0  0  0  0  0  0  1\n",
       "3       0  0  0  0  0  0  0  0  1\n",
       "4       0  0  0  0  0  0  0  0  1\n",
       "...    .. .. .. .. .. .. .. .. ..\n",
       "233442  0  0  0  0  0  0  0  0  1\n",
       "233443  0  0  0  0  0  0  0  0  1\n",
       "233444  0  0  0  0  0  0  0  0  1\n",
       "233445  0  0  0  0  0  0  0  0  1\n",
       "233446  0  0  0  0  0  0  0  0  1\n",
       "\n",
       "[233447 rows x 9 columns]"
      ]
     },
     "execution_count": 9,
     "metadata": {},
     "output_type": "execute_result"
    }
   ],
   "source": [
    "shp_dummy=pd.get_dummies(shp_RF['SegmentTyp'])\n",
    "shp_dummy"
   ]
  },
  {
   "cell_type": "code",
   "execution_count": 11,
   "metadata": {
    "colab": {
     "base_uri": "https://localhost:8080/",
     "height": 416
    },
    "executionInfo": {
     "elapsed": 124,
     "status": "ok",
     "timestamp": 1629477490168,
     "user": {
      "displayName": "Jaehee Kim",
      "photoUrl": "",
      "userId": "18030231322356011220"
     },
     "user_tz": 240
    },
    "id": "N-mttmTVxCaa",
    "outputId": "fdd6831c-7d85-4033-ff9a-f92bc138d0fc"
   },
   "outputs": [
    {
     "data": {
      "text/html": [
       "<div>\n",
       "<style scoped>\n",
       "    .dataframe tbody tr th:only-of-type {\n",
       "        vertical-align: middle;\n",
       "    }\n",
       "\n",
       "    .dataframe tbody tr th {\n",
       "        vertical-align: top;\n",
       "    }\n",
       "\n",
       "    .dataframe thead th {\n",
       "        text-align: right;\n",
       "    }\n",
       "</style>\n",
       "<table border=\"1\" class=\"dataframe\">\n",
       "  <thead>\n",
       "    <tr style=\"text-align: right;\">\n",
       "      <th></th>\n",
       "      <th>StreetWidt</th>\n",
       "      <th>BikeLane</th>\n",
       "      <th>TRUCK_ROUT</th>\n",
       "      <th>SHAPE_Leng</th>\n",
       "      <th>SegmentID</th>\n",
       "      <th>B</th>\n",
       "      <th>C</th>\n",
       "      <th>E</th>\n",
       "      <th>F</th>\n",
       "      <th>G</th>\n",
       "      <th>R</th>\n",
       "      <th>S</th>\n",
       "      <th>T</th>\n",
       "      <th>U</th>\n",
       "    </tr>\n",
       "  </thead>\n",
       "  <tbody>\n",
       "    <tr>\n",
       "      <th>0</th>\n",
       "      <td>34.0</td>\n",
       "      <td>0.0</td>\n",
       "      <td>0.0</td>\n",
       "      <td>396.030947</td>\n",
       "      <td>78126</td>\n",
       "      <td>0</td>\n",
       "      <td>0</td>\n",
       "      <td>0</td>\n",
       "      <td>0</td>\n",
       "      <td>0</td>\n",
       "      <td>0</td>\n",
       "      <td>0</td>\n",
       "      <td>0</td>\n",
       "      <td>1</td>\n",
       "    </tr>\n",
       "    <tr>\n",
       "      <th>1</th>\n",
       "      <td>30.0</td>\n",
       "      <td>0.0</td>\n",
       "      <td>0.0</td>\n",
       "      <td>279.360514</td>\n",
       "      <td>79796</td>\n",
       "      <td>0</td>\n",
       "      <td>0</td>\n",
       "      <td>0</td>\n",
       "      <td>0</td>\n",
       "      <td>0</td>\n",
       "      <td>0</td>\n",
       "      <td>0</td>\n",
       "      <td>0</td>\n",
       "      <td>1</td>\n",
       "    </tr>\n",
       "    <tr>\n",
       "      <th>2</th>\n",
       "      <td>34.0</td>\n",
       "      <td>0.0</td>\n",
       "      <td>0.0</td>\n",
       "      <td>618.327133</td>\n",
       "      <td>77356</td>\n",
       "      <td>0</td>\n",
       "      <td>0</td>\n",
       "      <td>0</td>\n",
       "      <td>0</td>\n",
       "      <td>0</td>\n",
       "      <td>0</td>\n",
       "      <td>0</td>\n",
       "      <td>0</td>\n",
       "      <td>1</td>\n",
       "    </tr>\n",
       "    <tr>\n",
       "      <th>3</th>\n",
       "      <td>34.0</td>\n",
       "      <td>0.0</td>\n",
       "      <td>0.0</td>\n",
       "      <td>618.327133</td>\n",
       "      <td>77356</td>\n",
       "      <td>0</td>\n",
       "      <td>0</td>\n",
       "      <td>0</td>\n",
       "      <td>0</td>\n",
       "      <td>0</td>\n",
       "      <td>0</td>\n",
       "      <td>0</td>\n",
       "      <td>0</td>\n",
       "      <td>1</td>\n",
       "    </tr>\n",
       "    <tr>\n",
       "      <th>4</th>\n",
       "      <td>34.0</td>\n",
       "      <td>0.0</td>\n",
       "      <td>0.0</td>\n",
       "      <td>618.327133</td>\n",
       "      <td>77356</td>\n",
       "      <td>0</td>\n",
       "      <td>0</td>\n",
       "      <td>0</td>\n",
       "      <td>0</td>\n",
       "      <td>0</td>\n",
       "      <td>0</td>\n",
       "      <td>0</td>\n",
       "      <td>0</td>\n",
       "      <td>1</td>\n",
       "    </tr>\n",
       "    <tr>\n",
       "      <th>...</th>\n",
       "      <td>...</td>\n",
       "      <td>...</td>\n",
       "      <td>...</td>\n",
       "      <td>...</td>\n",
       "      <td>...</td>\n",
       "      <td>...</td>\n",
       "      <td>...</td>\n",
       "      <td>...</td>\n",
       "      <td>...</td>\n",
       "      <td>...</td>\n",
       "      <td>...</td>\n",
       "      <td>...</td>\n",
       "      <td>...</td>\n",
       "      <td>...</td>\n",
       "    </tr>\n",
       "    <tr>\n",
       "      <th>233442</th>\n",
       "      <td>0.0</td>\n",
       "      <td>0.0</td>\n",
       "      <td>0.0</td>\n",
       "      <td>24.125705</td>\n",
       "      <td>315419</td>\n",
       "      <td>0</td>\n",
       "      <td>0</td>\n",
       "      <td>0</td>\n",
       "      <td>0</td>\n",
       "      <td>0</td>\n",
       "      <td>0</td>\n",
       "      <td>0</td>\n",
       "      <td>0</td>\n",
       "      <td>1</td>\n",
       "    </tr>\n",
       "    <tr>\n",
       "      <th>233443</th>\n",
       "      <td>0.0</td>\n",
       "      <td>0.0</td>\n",
       "      <td>0.0</td>\n",
       "      <td>26.261297</td>\n",
       "      <td>315420</td>\n",
       "      <td>0</td>\n",
       "      <td>0</td>\n",
       "      <td>0</td>\n",
       "      <td>0</td>\n",
       "      <td>0</td>\n",
       "      <td>0</td>\n",
       "      <td>0</td>\n",
       "      <td>0</td>\n",
       "      <td>1</td>\n",
       "    </tr>\n",
       "    <tr>\n",
       "      <th>233444</th>\n",
       "      <td>0.0</td>\n",
       "      <td>0.0</td>\n",
       "      <td>0.0</td>\n",
       "      <td>259.145921</td>\n",
       "      <td>331621</td>\n",
       "      <td>0</td>\n",
       "      <td>0</td>\n",
       "      <td>0</td>\n",
       "      <td>0</td>\n",
       "      <td>0</td>\n",
       "      <td>0</td>\n",
       "      <td>0</td>\n",
       "      <td>0</td>\n",
       "      <td>1</td>\n",
       "    </tr>\n",
       "    <tr>\n",
       "      <th>233445</th>\n",
       "      <td>0.0</td>\n",
       "      <td>0.0</td>\n",
       "      <td>0.0</td>\n",
       "      <td>67.377755</td>\n",
       "      <td>331622</td>\n",
       "      <td>0</td>\n",
       "      <td>0</td>\n",
       "      <td>0</td>\n",
       "      <td>0</td>\n",
       "      <td>0</td>\n",
       "      <td>0</td>\n",
       "      <td>0</td>\n",
       "      <td>0</td>\n",
       "      <td>1</td>\n",
       "    </tr>\n",
       "    <tr>\n",
       "      <th>233446</th>\n",
       "      <td>0.0</td>\n",
       "      <td>0.0</td>\n",
       "      <td>0.0</td>\n",
       "      <td>249.431691</td>\n",
       "      <td>331670</td>\n",
       "      <td>0</td>\n",
       "      <td>0</td>\n",
       "      <td>0</td>\n",
       "      <td>0</td>\n",
       "      <td>0</td>\n",
       "      <td>0</td>\n",
       "      <td>0</td>\n",
       "      <td>0</td>\n",
       "      <td>1</td>\n",
       "    </tr>\n",
       "  </tbody>\n",
       "</table>\n",
       "<p>233447 rows × 14 columns</p>\n",
       "</div>"
      ],
      "text/plain": [
       "        StreetWidt  BikeLane  TRUCK_ROUT  SHAPE_Leng  SegmentID  ...  G  R  S  T  U\n",
       "0             34.0       0.0         0.0  396.030947      78126  ...  0  0  0  0  1\n",
       "1             30.0       0.0         0.0  279.360514      79796  ...  0  0  0  0  1\n",
       "2             34.0       0.0         0.0  618.327133      77356  ...  0  0  0  0  1\n",
       "3             34.0       0.0         0.0  618.327133      77356  ...  0  0  0  0  1\n",
       "4             34.0       0.0         0.0  618.327133      77356  ...  0  0  0  0  1\n",
       "...            ...       ...         ...         ...        ...  ... .. .. .. .. ..\n",
       "233442         0.0       0.0         0.0   24.125705     315419  ...  0  0  0  0  1\n",
       "233443         0.0       0.0         0.0   26.261297     315420  ...  0  0  0  0  1\n",
       "233444         0.0       0.0         0.0  259.145921     331621  ...  0  0  0  0  1\n",
       "233445         0.0       0.0         0.0   67.377755     331622  ...  0  0  0  0  1\n",
       "233446         0.0       0.0         0.0  249.431691     331670  ...  0  0  0  0  1\n",
       "\n",
       "[233447 rows x 14 columns]"
      ]
     },
     "execution_count": 11,
     "metadata": {},
     "output_type": "execute_result"
    }
   ],
   "source": [
    "shp_join= shp_RF[['StreetWidt', 'BikeLane', 'TRUCK_ROUT', 'SHAPE_Leng', 'SegmentID']].merge(shp_dummy,right_index=True,left_index=True)\n",
    "shp_join"
   ]
  },
  {
   "cell_type": "code",
   "execution_count": 12,
   "metadata": {
    "executionInfo": {
     "elapsed": 155,
     "status": "ok",
     "timestamp": 1629477494618,
     "user": {
      "displayName": "Jaehee Kim",
      "photoUrl": "",
      "userId": "18030231322356011220"
     },
     "user_tz": 240
    },
    "id": "TK4wKTJfxrnA"
   },
   "outputs": [],
   "source": [
    "shp_RF=shp_join.loc[shp_join['StreetWidt']>0]\n",
    "shp_RF=shp_join.loc[shp_join['SHAPE_Leng']>0]"
   ]
  },
  {
   "cell_type": "code",
   "execution_count": 13,
   "metadata": {
    "executionInfo": {
     "elapsed": 11,
     "status": "ok",
     "timestamp": 1629477494765,
     "user": {
      "displayName": "Jaehee Kim",
      "photoUrl": "",
      "userId": "18030231322356011220"
     },
     "user_tz": 240
    },
    "id": "KaQu6yfPsiFr"
   },
   "outputs": [],
   "source": [
    "weekday_RF['label'] = weekday_RF['label'].replace({0:'low',1:'high',2:'medium'})\n",
    "weekend_RF['label'] = weekend_RF['label'].replace({0:'low',1:'high',2:'medium'})"
   ]
  },
  {
   "cell_type": "code",
   "execution_count": 14,
   "metadata": {
    "colab": {
     "base_uri": "https://localhost:8080/"
    },
    "executionInfo": {
     "elapsed": 12,
     "status": "ok",
     "timestamp": 1629477494766,
     "user": {
      "displayName": "Jaehee Kim",
      "photoUrl": "",
      "userId": "18030231322356011220"
     },
     "user_tz": 240
    },
    "id": "HxQ0tLYFtH5H",
    "outputId": "150b54df-7644-45ad-9815-b466e4b63769"
   },
   "outputs": [
    {
     "data": {
      "text/plain": [
       "array(['low', 'medium', 'high'], dtype=object)"
      ]
     },
     "execution_count": 14,
     "metadata": {},
     "output_type": "execute_result"
    }
   ],
   "source": [
    "weekend_RF['label'].unique()"
   ]
  },
  {
   "cell_type": "code",
   "execution_count": 15,
   "metadata": {
    "colab": {
     "base_uri": "https://localhost:8080/"
    },
    "executionInfo": {
     "elapsed": 151,
     "status": "ok",
     "timestamp": 1629477494908,
     "user": {
      "displayName": "Jaehee Kim",
      "photoUrl": "",
      "userId": "18030231322356011220"
     },
     "user_tz": 240
    },
    "id": "MdXpQqO8yjsd",
    "outputId": "2ac0c20f-c2df-4f56-f0e2-b62f590bafb4"
   },
   "outputs": [
    {
     "data": {
      "text/plain": [
       "Index(['Segment ID', 'day', 'Direction', 'LBoro', '12:00-1:00 AM',\n",
       "       '1:00-2:00AM', '2:00-3:00AM', '3:00-4:00AM', '4:00-5:00AM',\n",
       "       '5:00-6:00AM', '6:00-7:00AM', '7:00-8:00AM', '8:00-9:00AM',\n",
       "       '9:00-10:00AM', '10:00-11:00AM', '11:00-12:00PM', '12:00-1:00PM',\n",
       "       '1:00-2:00PM', '2:00-3:00PM', '3:00-4:00PM', '4:00-5:00PM',\n",
       "       '5:00-6:00PM', '6:00-7:00PM', '7:00-8:00PM', '8:00-9:00PM',\n",
       "       '9:00-10:00PM', '10:00-11:00PM', '11:00-12:00AM', 'daily_volume'],\n",
       "      dtype='object')"
      ]
     },
     "execution_count": 15,
     "metadata": {},
     "output_type": "execute_result"
    }
   ],
   "source": [
    "direction.columns"
   ]
  },
  {
   "cell_type": "code",
   "execution_count": 16,
   "metadata": {
    "executionInfo": {
     "elapsed": 13,
     "status": "ok",
     "timestamp": 1629477494909,
     "user": {
      "displayName": "Jaehee Kim",
      "photoUrl": "",
      "userId": "18030231322356011220"
     },
     "user_tz": 240
    },
    "id": "USL9_Lo_4Khs"
   },
   "outputs": [],
   "source": [
    "direction['Direction']= direction['Direction'].replace({'EB-SER':'EB','EB ':'EB','NB ':'NB','NB-SER':'NB','NB - SER':'NB',\n",
    "                                                        'SB-MAIN':'SB','WB-SR':'WB','WB-MR':'WB','SB - SER':'SB','NB-MAIN':'NB','WB ':'WB',\n",
    "                                                        'SB-SER':'SB','WB-SER':'WB'})"
   ]
  },
  {
   "cell_type": "code",
   "execution_count": 17,
   "metadata": {
    "colab": {
     "base_uri": "https://localhost:8080/"
    },
    "executionInfo": {
     "elapsed": 14,
     "status": "ok",
     "timestamp": 1629477494910,
     "user": {
      "displayName": "Jaehee Kim",
      "photoUrl": "",
      "userId": "18030231322356011220"
     },
     "user_tz": 240
    },
    "id": "gcTzVShV4S6H",
    "outputId": "6f3986ef-424a-4327-dbd4-28467e253039"
   },
   "outputs": [
    {
     "data": {
      "text/plain": [
       "array(['NB', 'SB', 'EB', 'WB'], dtype=object)"
      ]
     },
     "execution_count": 17,
     "metadata": {},
     "output_type": "execute_result"
    }
   ],
   "source": [
    "direction['Direction'].unique()"
   ]
  },
  {
   "cell_type": "code",
   "execution_count": 18,
   "metadata": {
    "colab": {
     "base_uri": "https://localhost:8080/",
     "height": 416
    },
    "executionInfo": {
     "elapsed": 13,
     "status": "ok",
     "timestamp": 1629477494911,
     "user": {
      "displayName": "Jaehee Kim",
      "photoUrl": "",
      "userId": "18030231322356011220"
     },
     "user_tz": 240
    },
    "id": "nByRqyUR3cQc",
    "outputId": "6a7941dc-0273-4854-ddbf-d032a7b25978"
   },
   "outputs": [
    {
     "data": {
      "text/html": [
       "<div>\n",
       "<style scoped>\n",
       "    .dataframe tbody tr th:only-of-type {\n",
       "        vertical-align: middle;\n",
       "    }\n",
       "\n",
       "    .dataframe tbody tr th {\n",
       "        vertical-align: top;\n",
       "    }\n",
       "\n",
       "    .dataframe thead th {\n",
       "        text-align: right;\n",
       "    }\n",
       "</style>\n",
       "<table border=\"1\" class=\"dataframe\">\n",
       "  <thead>\n",
       "    <tr style=\"text-align: right;\">\n",
       "      <th></th>\n",
       "      <th>EB</th>\n",
       "      <th>NB</th>\n",
       "      <th>SB</th>\n",
       "      <th>WB</th>\n",
       "    </tr>\n",
       "  </thead>\n",
       "  <tbody>\n",
       "    <tr>\n",
       "      <th>0</th>\n",
       "      <td>0</td>\n",
       "      <td>1</td>\n",
       "      <td>0</td>\n",
       "      <td>0</td>\n",
       "    </tr>\n",
       "    <tr>\n",
       "      <th>1</th>\n",
       "      <td>0</td>\n",
       "      <td>0</td>\n",
       "      <td>1</td>\n",
       "      <td>0</td>\n",
       "    </tr>\n",
       "    <tr>\n",
       "      <th>2</th>\n",
       "      <td>0</td>\n",
       "      <td>1</td>\n",
       "      <td>0</td>\n",
       "      <td>0</td>\n",
       "    </tr>\n",
       "    <tr>\n",
       "      <th>3</th>\n",
       "      <td>0</td>\n",
       "      <td>0</td>\n",
       "      <td>1</td>\n",
       "      <td>0</td>\n",
       "    </tr>\n",
       "    <tr>\n",
       "      <th>4</th>\n",
       "      <td>0</td>\n",
       "      <td>1</td>\n",
       "      <td>0</td>\n",
       "      <td>0</td>\n",
       "    </tr>\n",
       "    <tr>\n",
       "      <th>...</th>\n",
       "      <td>...</td>\n",
       "      <td>...</td>\n",
       "      <td>...</td>\n",
       "      <td>...</td>\n",
       "    </tr>\n",
       "    <tr>\n",
       "      <th>5110</th>\n",
       "      <td>1</td>\n",
       "      <td>0</td>\n",
       "      <td>0</td>\n",
       "      <td>0</td>\n",
       "    </tr>\n",
       "    <tr>\n",
       "      <th>5111</th>\n",
       "      <td>0</td>\n",
       "      <td>0</td>\n",
       "      <td>0</td>\n",
       "      <td>1</td>\n",
       "    </tr>\n",
       "    <tr>\n",
       "      <th>5112</th>\n",
       "      <td>0</td>\n",
       "      <td>0</td>\n",
       "      <td>0</td>\n",
       "      <td>1</td>\n",
       "    </tr>\n",
       "    <tr>\n",
       "      <th>5113</th>\n",
       "      <td>0</td>\n",
       "      <td>0</td>\n",
       "      <td>1</td>\n",
       "      <td>0</td>\n",
       "    </tr>\n",
       "    <tr>\n",
       "      <th>5114</th>\n",
       "      <td>0</td>\n",
       "      <td>0</td>\n",
       "      <td>1</td>\n",
       "      <td>0</td>\n",
       "    </tr>\n",
       "  </tbody>\n",
       "</table>\n",
       "<p>5115 rows × 4 columns</p>\n",
       "</div>"
      ],
      "text/plain": [
       "      EB  NB  SB  WB\n",
       "0      0   1   0   0\n",
       "1      0   0   1   0\n",
       "2      0   1   0   0\n",
       "3      0   0   1   0\n",
       "4      0   1   0   0\n",
       "...   ..  ..  ..  ..\n",
       "5110   1   0   0   0\n",
       "5111   0   0   0   1\n",
       "5112   0   0   0   1\n",
       "5113   0   0   1   0\n",
       "5114   0   0   1   0\n",
       "\n",
       "[5115 rows x 4 columns]"
      ]
     },
     "execution_count": 18,
     "metadata": {},
     "output_type": "execute_result"
    }
   ],
   "source": [
    "direction_dummy=pd.get_dummies(direction['Direction'])\n",
    "direction_dummy"
   ]
  },
  {
   "cell_type": "code",
   "execution_count": 19,
   "metadata": {
    "colab": {
     "base_uri": "https://localhost:8080/",
     "height": 470
    },
    "executionInfo": {
     "elapsed": 12,
     "status": "ok",
     "timestamp": 1629477494912,
     "user": {
      "displayName": "Jaehee Kim",
      "photoUrl": "",
      "userId": "18030231322356011220"
     },
     "user_tz": 240
    },
    "id": "0XFiUGqs3hku",
    "outputId": "e83227b4-8228-49d0-db51-90f0e5b30c71"
   },
   "outputs": [
    {
     "data": {
      "text/html": [
       "<div>\n",
       "<style scoped>\n",
       "    .dataframe tbody tr th:only-of-type {\n",
       "        vertical-align: middle;\n",
       "    }\n",
       "\n",
       "    .dataframe tbody tr th {\n",
       "        vertical-align: top;\n",
       "    }\n",
       "\n",
       "    .dataframe thead th {\n",
       "        text-align: right;\n",
       "    }\n",
       "</style>\n",
       "<table border=\"1\" class=\"dataframe\">\n",
       "  <thead>\n",
       "    <tr style=\"text-align: right;\">\n",
       "      <th></th>\n",
       "      <th>Segment ID</th>\n",
       "      <th>day</th>\n",
       "      <th>Direction</th>\n",
       "      <th>LBoro</th>\n",
       "      <th>12:00-1:00 AM</th>\n",
       "      <th>1:00-2:00AM</th>\n",
       "      <th>2:00-3:00AM</th>\n",
       "      <th>3:00-4:00AM</th>\n",
       "      <th>4:00-5:00AM</th>\n",
       "      <th>5:00-6:00AM</th>\n",
       "      <th>6:00-7:00AM</th>\n",
       "      <th>7:00-8:00AM</th>\n",
       "      <th>8:00-9:00AM</th>\n",
       "      <th>9:00-10:00AM</th>\n",
       "      <th>10:00-11:00AM</th>\n",
       "      <th>11:00-12:00PM</th>\n",
       "      <th>12:00-1:00PM</th>\n",
       "      <th>1:00-2:00PM</th>\n",
       "      <th>2:00-3:00PM</th>\n",
       "      <th>3:00-4:00PM</th>\n",
       "      <th>4:00-5:00PM</th>\n",
       "      <th>5:00-6:00PM</th>\n",
       "      <th>6:00-7:00PM</th>\n",
       "      <th>7:00-8:00PM</th>\n",
       "      <th>8:00-9:00PM</th>\n",
       "      <th>9:00-10:00PM</th>\n",
       "      <th>10:00-11:00PM</th>\n",
       "      <th>11:00-12:00AM</th>\n",
       "      <th>daily_volume</th>\n",
       "      <th>EB</th>\n",
       "      <th>NB</th>\n",
       "      <th>SB</th>\n",
       "      <th>WB</th>\n",
       "    </tr>\n",
       "  </thead>\n",
       "  <tbody>\n",
       "    <tr>\n",
       "      <th>0</th>\n",
       "      <td>646</td>\n",
       "      <td>Weekday</td>\n",
       "      <td>NB</td>\n",
       "      <td>5.0</td>\n",
       "      <td>26.00</td>\n",
       "      <td>24.00</td>\n",
       "      <td>19.75</td>\n",
       "      <td>16.50</td>\n",
       "      <td>24.75</td>\n",
       "      <td>69.25</td>\n",
       "      <td>118.75</td>\n",
       "      <td>140.75</td>\n",
       "      <td>187.00</td>\n",
       "      <td>219.25</td>\n",
       "      <td>192.00</td>\n",
       "      <td>236.50</td>\n",
       "      <td>242.50</td>\n",
       "      <td>256.50</td>\n",
       "      <td>257.00</td>\n",
       "      <td>276.75</td>\n",
       "      <td>262.00</td>\n",
       "      <td>203.50</td>\n",
       "      <td>163.25</td>\n",
       "      <td>138.00</td>\n",
       "      <td>90.25</td>\n",
       "      <td>71.5</td>\n",
       "      <td>43.50</td>\n",
       "      <td>36.25</td>\n",
       "      <td>3315.50</td>\n",
       "      <td>0</td>\n",
       "      <td>1</td>\n",
       "      <td>0</td>\n",
       "      <td>0</td>\n",
       "    </tr>\n",
       "    <tr>\n",
       "      <th>1</th>\n",
       "      <td>646</td>\n",
       "      <td>Weekday</td>\n",
       "      <td>SB</td>\n",
       "      <td>5.0</td>\n",
       "      <td>30.50</td>\n",
       "      <td>26.75</td>\n",
       "      <td>18.25</td>\n",
       "      <td>16.25</td>\n",
       "      <td>28.00</td>\n",
       "      <td>34.50</td>\n",
       "      <td>75.75</td>\n",
       "      <td>127.75</td>\n",
       "      <td>178.50</td>\n",
       "      <td>203.75</td>\n",
       "      <td>209.75</td>\n",
       "      <td>235.75</td>\n",
       "      <td>258.25</td>\n",
       "      <td>285.75</td>\n",
       "      <td>270.25</td>\n",
       "      <td>311.00</td>\n",
       "      <td>319.50</td>\n",
       "      <td>248.25</td>\n",
       "      <td>202.75</td>\n",
       "      <td>167.25</td>\n",
       "      <td>99.50</td>\n",
       "      <td>72.5</td>\n",
       "      <td>42.50</td>\n",
       "      <td>33.50</td>\n",
       "      <td>3496.50</td>\n",
       "      <td>0</td>\n",
       "      <td>0</td>\n",
       "      <td>1</td>\n",
       "      <td>0</td>\n",
       "    </tr>\n",
       "    <tr>\n",
       "      <th>2</th>\n",
       "      <td>1416</td>\n",
       "      <td>Weekday</td>\n",
       "      <td>NB</td>\n",
       "      <td>5.0</td>\n",
       "      <td>43.20</td>\n",
       "      <td>23.00</td>\n",
       "      <td>11.00</td>\n",
       "      <td>11.80</td>\n",
       "      <td>32.00</td>\n",
       "      <td>92.20</td>\n",
       "      <td>130.20</td>\n",
       "      <td>245.80</td>\n",
       "      <td>293.00</td>\n",
       "      <td>196.80</td>\n",
       "      <td>230.60</td>\n",
       "      <td>253.60</td>\n",
       "      <td>273.00</td>\n",
       "      <td>299.80</td>\n",
       "      <td>397.80</td>\n",
       "      <td>384.60</td>\n",
       "      <td>396.40</td>\n",
       "      <td>440.80</td>\n",
       "      <td>389.00</td>\n",
       "      <td>320.80</td>\n",
       "      <td>256.40</td>\n",
       "      <td>184.4</td>\n",
       "      <td>122.80</td>\n",
       "      <td>83.80</td>\n",
       "      <td>5112.80</td>\n",
       "      <td>0</td>\n",
       "      <td>1</td>\n",
       "      <td>0</td>\n",
       "      <td>0</td>\n",
       "    </tr>\n",
       "    <tr>\n",
       "      <th>3</th>\n",
       "      <td>1416</td>\n",
       "      <td>Weekday</td>\n",
       "      <td>SB</td>\n",
       "      <td>5.0</td>\n",
       "      <td>31.60</td>\n",
       "      <td>16.00</td>\n",
       "      <td>9.80</td>\n",
       "      <td>11.40</td>\n",
       "      <td>29.40</td>\n",
       "      <td>65.80</td>\n",
       "      <td>218.40</td>\n",
       "      <td>411.60</td>\n",
       "      <td>343.00</td>\n",
       "      <td>232.20</td>\n",
       "      <td>238.60</td>\n",
       "      <td>252.00</td>\n",
       "      <td>272.40</td>\n",
       "      <td>290.60</td>\n",
       "      <td>323.80</td>\n",
       "      <td>359.00</td>\n",
       "      <td>354.80</td>\n",
       "      <td>362.20</td>\n",
       "      <td>331.60</td>\n",
       "      <td>264.40</td>\n",
       "      <td>200.00</td>\n",
       "      <td>149.6</td>\n",
       "      <td>94.60</td>\n",
       "      <td>65.80</td>\n",
       "      <td>4928.60</td>\n",
       "      <td>0</td>\n",
       "      <td>0</td>\n",
       "      <td>1</td>\n",
       "      <td>0</td>\n",
       "    </tr>\n",
       "    <tr>\n",
       "      <th>4</th>\n",
       "      <td>1416</td>\n",
       "      <td>Weekend</td>\n",
       "      <td>NB</td>\n",
       "      <td>5.0</td>\n",
       "      <td>98.00</td>\n",
       "      <td>56.75</td>\n",
       "      <td>32.75</td>\n",
       "      <td>26.25</td>\n",
       "      <td>23.25</td>\n",
       "      <td>25.25</td>\n",
       "      <td>47.50</td>\n",
       "      <td>76.25</td>\n",
       "      <td>133.25</td>\n",
       "      <td>206.75</td>\n",
       "      <td>280.75</td>\n",
       "      <td>361.50</td>\n",
       "      <td>365.00</td>\n",
       "      <td>370.00</td>\n",
       "      <td>362.75</td>\n",
       "      <td>347.00</td>\n",
       "      <td>347.25</td>\n",
       "      <td>312.00</td>\n",
       "      <td>307.25</td>\n",
       "      <td>246.50</td>\n",
       "      <td>201.00</td>\n",
       "      <td>166.5</td>\n",
       "      <td>128.25</td>\n",
       "      <td>95.50</td>\n",
       "      <td>4617.25</td>\n",
       "      <td>0</td>\n",
       "      <td>1</td>\n",
       "      <td>0</td>\n",
       "      <td>0</td>\n",
       "    </tr>\n",
       "    <tr>\n",
       "      <th>...</th>\n",
       "      <td>...</td>\n",
       "      <td>...</td>\n",
       "      <td>...</td>\n",
       "      <td>...</td>\n",
       "      <td>...</td>\n",
       "      <td>...</td>\n",
       "      <td>...</td>\n",
       "      <td>...</td>\n",
       "      <td>...</td>\n",
       "      <td>...</td>\n",
       "      <td>...</td>\n",
       "      <td>...</td>\n",
       "      <td>...</td>\n",
       "      <td>...</td>\n",
       "      <td>...</td>\n",
       "      <td>...</td>\n",
       "      <td>...</td>\n",
       "      <td>...</td>\n",
       "      <td>...</td>\n",
       "      <td>...</td>\n",
       "      <td>...</td>\n",
       "      <td>...</td>\n",
       "      <td>...</td>\n",
       "      <td>...</td>\n",
       "      <td>...</td>\n",
       "      <td>...</td>\n",
       "      <td>...</td>\n",
       "      <td>...</td>\n",
       "      <td>...</td>\n",
       "      <td>...</td>\n",
       "      <td>...</td>\n",
       "      <td>...</td>\n",
       "      <td>...</td>\n",
       "    </tr>\n",
       "    <tr>\n",
       "      <th>5110</th>\n",
       "      <td>9017037</td>\n",
       "      <td>Weekend</td>\n",
       "      <td>EB</td>\n",
       "      <td>4.0</td>\n",
       "      <td>220.25</td>\n",
       "      <td>148.75</td>\n",
       "      <td>111.75</td>\n",
       "      <td>82.75</td>\n",
       "      <td>108.00</td>\n",
       "      <td>160.00</td>\n",
       "      <td>287.75</td>\n",
       "      <td>391.75</td>\n",
       "      <td>516.25</td>\n",
       "      <td>590.75</td>\n",
       "      <td>679.25</td>\n",
       "      <td>728.00</td>\n",
       "      <td>765.50</td>\n",
       "      <td>701.25</td>\n",
       "      <td>743.75</td>\n",
       "      <td>722.50</td>\n",
       "      <td>708.25</td>\n",
       "      <td>664.00</td>\n",
       "      <td>651.50</td>\n",
       "      <td>593.25</td>\n",
       "      <td>514.75</td>\n",
       "      <td>443.0</td>\n",
       "      <td>399.75</td>\n",
       "      <td>301.75</td>\n",
       "      <td>11234.50</td>\n",
       "      <td>1</td>\n",
       "      <td>0</td>\n",
       "      <td>0</td>\n",
       "      <td>0</td>\n",
       "    </tr>\n",
       "    <tr>\n",
       "      <th>5111</th>\n",
       "      <td>9017039</td>\n",
       "      <td>Weekday</td>\n",
       "      <td>WB</td>\n",
       "      <td>4.0</td>\n",
       "      <td>211.60</td>\n",
       "      <td>129.20</td>\n",
       "      <td>94.00</td>\n",
       "      <td>64.40</td>\n",
       "      <td>97.00</td>\n",
       "      <td>169.20</td>\n",
       "      <td>346.20</td>\n",
       "      <td>804.00</td>\n",
       "      <td>1227.00</td>\n",
       "      <td>1136.80</td>\n",
       "      <td>930.80</td>\n",
       "      <td>835.60</td>\n",
       "      <td>865.40</td>\n",
       "      <td>984.60</td>\n",
       "      <td>1290.40</td>\n",
       "      <td>1769.00</td>\n",
       "      <td>1828.00</td>\n",
       "      <td>1790.20</td>\n",
       "      <td>1634.00</td>\n",
       "      <td>1440.80</td>\n",
       "      <td>948.40</td>\n",
       "      <td>663.2</td>\n",
       "      <td>478.00</td>\n",
       "      <td>358.40</td>\n",
       "      <td>20096.20</td>\n",
       "      <td>0</td>\n",
       "      <td>0</td>\n",
       "      <td>0</td>\n",
       "      <td>1</td>\n",
       "    </tr>\n",
       "    <tr>\n",
       "      <th>5112</th>\n",
       "      <td>9017039</td>\n",
       "      <td>Weekend</td>\n",
       "      <td>WB</td>\n",
       "      <td>4.0</td>\n",
       "      <td>322.25</td>\n",
       "      <td>214.00</td>\n",
       "      <td>164.50</td>\n",
       "      <td>153.25</td>\n",
       "      <td>135.00</td>\n",
       "      <td>123.50</td>\n",
       "      <td>151.50</td>\n",
       "      <td>242.00</td>\n",
       "      <td>319.50</td>\n",
       "      <td>395.50</td>\n",
       "      <td>451.75</td>\n",
       "      <td>530.50</td>\n",
       "      <td>611.75</td>\n",
       "      <td>727.00</td>\n",
       "      <td>819.00</td>\n",
       "      <td>1097.75</td>\n",
       "      <td>1145.00</td>\n",
       "      <td>1005.25</td>\n",
       "      <td>849.00</td>\n",
       "      <td>930.25</td>\n",
       "      <td>783.75</td>\n",
       "      <td>545.5</td>\n",
       "      <td>427.00</td>\n",
       "      <td>379.50</td>\n",
       "      <td>12524.00</td>\n",
       "      <td>0</td>\n",
       "      <td>0</td>\n",
       "      <td>0</td>\n",
       "      <td>1</td>\n",
       "    </tr>\n",
       "    <tr>\n",
       "      <th>5113</th>\n",
       "      <td>9017050</td>\n",
       "      <td>Weekday</td>\n",
       "      <td>SB</td>\n",
       "      <td>1.0</td>\n",
       "      <td>305.80</td>\n",
       "      <td>201.80</td>\n",
       "      <td>153.80</td>\n",
       "      <td>141.20</td>\n",
       "      <td>181.00</td>\n",
       "      <td>328.00</td>\n",
       "      <td>591.60</td>\n",
       "      <td>844.20</td>\n",
       "      <td>856.00</td>\n",
       "      <td>734.60</td>\n",
       "      <td>662.60</td>\n",
       "      <td>668.20</td>\n",
       "      <td>668.40</td>\n",
       "      <td>749.40</td>\n",
       "      <td>725.40</td>\n",
       "      <td>766.40</td>\n",
       "      <td>836.40</td>\n",
       "      <td>867.80</td>\n",
       "      <td>822.80</td>\n",
       "      <td>726.60</td>\n",
       "      <td>657.00</td>\n",
       "      <td>581.6</td>\n",
       "      <td>525.00</td>\n",
       "      <td>443.40</td>\n",
       "      <td>14039.00</td>\n",
       "      <td>0</td>\n",
       "      <td>0</td>\n",
       "      <td>1</td>\n",
       "      <td>0</td>\n",
       "    </tr>\n",
       "    <tr>\n",
       "      <th>5114</th>\n",
       "      <td>9017050</td>\n",
       "      <td>Weekend</td>\n",
       "      <td>SB</td>\n",
       "      <td>1.0</td>\n",
       "      <td>427.50</td>\n",
       "      <td>363.50</td>\n",
       "      <td>292.25</td>\n",
       "      <td>220.75</td>\n",
       "      <td>195.25</td>\n",
       "      <td>204.75</td>\n",
       "      <td>264.75</td>\n",
       "      <td>414.00</td>\n",
       "      <td>511.00</td>\n",
       "      <td>593.50</td>\n",
       "      <td>689.00</td>\n",
       "      <td>705.75</td>\n",
       "      <td>713.50</td>\n",
       "      <td>799.25</td>\n",
       "      <td>770.00</td>\n",
       "      <td>750.50</td>\n",
       "      <td>725.25</td>\n",
       "      <td>720.75</td>\n",
       "      <td>748.75</td>\n",
       "      <td>658.25</td>\n",
       "      <td>540.75</td>\n",
       "      <td>503.0</td>\n",
       "      <td>538.25</td>\n",
       "      <td>462.00</td>\n",
       "      <td>12812.25</td>\n",
       "      <td>0</td>\n",
       "      <td>0</td>\n",
       "      <td>1</td>\n",
       "      <td>0</td>\n",
       "    </tr>\n",
       "  </tbody>\n",
       "</table>\n",
       "<p>5115 rows × 33 columns</p>\n",
       "</div>"
      ],
      "text/plain": [
       "      Segment ID      day Direction  LBoro  ...  EB  NB  SB  WB\n",
       "0            646  Weekday        NB    5.0  ...   0   1   0   0\n",
       "1            646  Weekday        SB    5.0  ...   0   0   1   0\n",
       "2           1416  Weekday        NB    5.0  ...   0   1   0   0\n",
       "3           1416  Weekday        SB    5.0  ...   0   0   1   0\n",
       "4           1416  Weekend        NB    5.0  ...   0   1   0   0\n",
       "...          ...      ...       ...    ...  ...  ..  ..  ..  ..\n",
       "5110     9017037  Weekend        EB    4.0  ...   1   0   0   0\n",
       "5111     9017039  Weekday        WB    4.0  ...   0   0   0   1\n",
       "5112     9017039  Weekend        WB    4.0  ...   0   0   0   1\n",
       "5113     9017050  Weekday        SB    1.0  ...   0   0   1   0\n",
       "5114     9017050  Weekend        SB    1.0  ...   0   0   1   0\n",
       "\n",
       "[5115 rows x 33 columns]"
      ]
     },
     "execution_count": 19,
     "metadata": {},
     "output_type": "execute_result"
    }
   ],
   "source": [
    "direction= direction.merge(direction_dummy,right_index=True,left_index=True)\n",
    "direction"
   ]
  },
  {
   "cell_type": "code",
   "execution_count": 20,
   "metadata": {
    "executionInfo": {
     "elapsed": 131,
     "status": "ok",
     "timestamp": 1629477495033,
     "user": {
      "displayName": "Jaehee Kim",
      "photoUrl": "",
      "userId": "18030231322356011220"
     },
     "user_tz": 240
    },
    "id": "BTNshacU1Ewf"
   },
   "outputs": [],
   "source": [
    "direction_end=direction.loc[direction['day']=='Weekend']\n",
    "direction_day=direction.loc[direction['day']=='Weekday']"
   ]
  },
  {
   "cell_type": "code",
   "execution_count": 21,
   "metadata": {
    "executionInfo": {
     "elapsed": 9,
     "status": "ok",
     "timestamp": 1629477495034,
     "user": {
      "displayName": "Jaehee Kim",
      "photoUrl": "",
      "userId": "18030231322356011220"
     },
     "user_tz": 240
    },
    "id": "bvhg-0GT8Byp"
   },
   "outputs": [],
   "source": [
    "weekend_RF2= weekend_RF[['label','Segment ID']].merge(direction_end,right_on='Segment ID',left_on='Segment ID')\n",
    "weekday_RF2= weekday_RF[['label','Segment ID']].merge(direction_day,right_on='Segment ID',left_on='Segment ID')"
   ]
  },
  {
   "cell_type": "code",
   "execution_count": 22,
   "metadata": {
    "colab": {
     "base_uri": "https://localhost:8080/",
     "height": 202
    },
    "executionInfo": {
     "elapsed": 10,
     "status": "ok",
     "timestamp": 1629477495035,
     "user": {
      "displayName": "Jaehee Kim",
      "photoUrl": "",
      "userId": "18030231322356011220"
     },
     "user_tz": 240
    },
    "id": "kst1c_0C9EZq",
    "outputId": "353db5cb-2318-482d-c14f-61394eb233bb"
   },
   "outputs": [
    {
     "data": {
      "text/html": [
       "<div>\n",
       "<style scoped>\n",
       "    .dataframe tbody tr th:only-of-type {\n",
       "        vertical-align: middle;\n",
       "    }\n",
       "\n",
       "    .dataframe tbody tr th {\n",
       "        vertical-align: top;\n",
       "    }\n",
       "\n",
       "    .dataframe thead th {\n",
       "        text-align: right;\n",
       "    }\n",
       "</style>\n",
       "<table border=\"1\" class=\"dataframe\">\n",
       "  <thead>\n",
       "    <tr style=\"text-align: right;\">\n",
       "      <th></th>\n",
       "      <th>StreetWidt</th>\n",
       "      <th>BikeLane</th>\n",
       "      <th>TRUCK_ROUT</th>\n",
       "      <th>SHAPE_Leng</th>\n",
       "      <th>SegmentID</th>\n",
       "      <th>B</th>\n",
       "      <th>C</th>\n",
       "      <th>E</th>\n",
       "      <th>F</th>\n",
       "      <th>G</th>\n",
       "      <th>R</th>\n",
       "      <th>S</th>\n",
       "      <th>T</th>\n",
       "      <th>U</th>\n",
       "    </tr>\n",
       "  </thead>\n",
       "  <tbody>\n",
       "    <tr>\n",
       "      <th>0</th>\n",
       "      <td>34.0</td>\n",
       "      <td>0.0</td>\n",
       "      <td>0.0</td>\n",
       "      <td>396.030947</td>\n",
       "      <td>78126</td>\n",
       "      <td>0</td>\n",
       "      <td>0</td>\n",
       "      <td>0</td>\n",
       "      <td>0</td>\n",
       "      <td>0</td>\n",
       "      <td>0</td>\n",
       "      <td>0</td>\n",
       "      <td>0</td>\n",
       "      <td>1</td>\n",
       "    </tr>\n",
       "    <tr>\n",
       "      <th>1</th>\n",
       "      <td>30.0</td>\n",
       "      <td>0.0</td>\n",
       "      <td>0.0</td>\n",
       "      <td>279.360514</td>\n",
       "      <td>79796</td>\n",
       "      <td>0</td>\n",
       "      <td>0</td>\n",
       "      <td>0</td>\n",
       "      <td>0</td>\n",
       "      <td>0</td>\n",
       "      <td>0</td>\n",
       "      <td>0</td>\n",
       "      <td>0</td>\n",
       "      <td>1</td>\n",
       "    </tr>\n",
       "    <tr>\n",
       "      <th>2</th>\n",
       "      <td>34.0</td>\n",
       "      <td>0.0</td>\n",
       "      <td>0.0</td>\n",
       "      <td>618.327133</td>\n",
       "      <td>77356</td>\n",
       "      <td>0</td>\n",
       "      <td>0</td>\n",
       "      <td>0</td>\n",
       "      <td>0</td>\n",
       "      <td>0</td>\n",
       "      <td>0</td>\n",
       "      <td>0</td>\n",
       "      <td>0</td>\n",
       "      <td>1</td>\n",
       "    </tr>\n",
       "    <tr>\n",
       "      <th>3</th>\n",
       "      <td>34.0</td>\n",
       "      <td>0.0</td>\n",
       "      <td>0.0</td>\n",
       "      <td>618.327133</td>\n",
       "      <td>77356</td>\n",
       "      <td>0</td>\n",
       "      <td>0</td>\n",
       "      <td>0</td>\n",
       "      <td>0</td>\n",
       "      <td>0</td>\n",
       "      <td>0</td>\n",
       "      <td>0</td>\n",
       "      <td>0</td>\n",
       "      <td>1</td>\n",
       "    </tr>\n",
       "    <tr>\n",
       "      <th>4</th>\n",
       "      <td>34.0</td>\n",
       "      <td>0.0</td>\n",
       "      <td>0.0</td>\n",
       "      <td>618.327133</td>\n",
       "      <td>77356</td>\n",
       "      <td>0</td>\n",
       "      <td>0</td>\n",
       "      <td>0</td>\n",
       "      <td>0</td>\n",
       "      <td>0</td>\n",
       "      <td>0</td>\n",
       "      <td>0</td>\n",
       "      <td>0</td>\n",
       "      <td>1</td>\n",
       "    </tr>\n",
       "  </tbody>\n",
       "</table>\n",
       "</div>"
      ],
      "text/plain": [
       "   StreetWidt  BikeLane  TRUCK_ROUT  SHAPE_Leng  SegmentID  B  ...  F  G  R  S  T  U\n",
       "0        34.0       0.0         0.0  396.030947      78126  0  ...  0  0  0  0  0  1\n",
       "1        30.0       0.0         0.0  279.360514      79796  0  ...  0  0  0  0  0  1\n",
       "2        34.0       0.0         0.0  618.327133      77356  0  ...  0  0  0  0  0  1\n",
       "3        34.0       0.0         0.0  618.327133      77356  0  ...  0  0  0  0  0  1\n",
       "4        34.0       0.0         0.0  618.327133      77356  0  ...  0  0  0  0  0  1\n",
       "\n",
       "[5 rows x 14 columns]"
      ]
     },
     "execution_count": 22,
     "metadata": {},
     "output_type": "execute_result"
    }
   ],
   "source": [
    "shp_join.head()"
   ]
  },
  {
   "cell_type": "code",
   "execution_count": 23,
   "metadata": {
    "executionInfo": {
     "elapsed": 180,
     "status": "ok",
     "timestamp": 1629477495207,
     "user": {
      "displayName": "Jaehee Kim",
      "photoUrl": "",
      "userId": "18030231322356011220"
     },
     "user_tz": 240
    },
    "id": "b8hlp2NNuPOU"
   },
   "outputs": [],
   "source": [
    "weekend_RF2= weekend_RF2[['label','Segment ID','daily_volume', 'EB','NB', 'SB', 'WB']].merge(shp_join,right_on='SegmentID',left_on='Segment ID')\n",
    "weekday_RF2= weekday_RF2[['label','Segment ID','daily_volume', 'EB','NB', 'SB', 'WB']].merge(shp_join,right_on='SegmentID',left_on='Segment ID')"
   ]
  },
  {
   "cell_type": "code",
   "execution_count": 24,
   "metadata": {
    "colab": {
     "base_uri": "https://localhost:8080/"
    },
    "executionInfo": {
     "elapsed": 9,
     "status": "ok",
     "timestamp": 1629477495207,
     "user": {
      "displayName": "Jaehee Kim",
      "photoUrl": "",
      "userId": "18030231322356011220"
     },
     "user_tz": 240
    },
    "id": "U14SS_eH8iku",
    "outputId": "0c43e95b-aaaf-49bc-f5bf-10a5c61fcba7"
   },
   "outputs": [
    {
     "data": {
      "text/plain": [
       "Index(['label', 'Segment ID', 'daily_volume', 'EB', 'NB', 'SB', 'WB',\n",
       "       'StreetWidt', 'BikeLane', 'TRUCK_ROUT', 'SHAPE_Leng', 'SegmentID', 'B',\n",
       "       'C', 'E', 'F', 'G', 'R', 'S', 'T', 'U'],\n",
       "      dtype='object')"
      ]
     },
     "execution_count": 24,
     "metadata": {},
     "output_type": "execute_result"
    }
   ],
   "source": [
    "weekend_RF2.columns"
   ]
  },
  {
   "cell_type": "code",
   "execution_count": 25,
   "metadata": {
    "colab": {
     "base_uri": "https://localhost:8080/",
     "height": 453
    },
    "executionInfo": {
     "elapsed": 177,
     "status": "ok",
     "timestamp": 1629477495377,
     "user": {
      "displayName": "Jaehee Kim",
      "photoUrl": "",
      "userId": "18030231322356011220"
     },
     "user_tz": 240
    },
    "id": "CDn-lHL827LO",
    "outputId": "a1be7aa2-ff1b-4959-cc20-bbb8c0ffd90d"
   },
   "outputs": [
    {
     "data": {
      "text/html": [
       "<div>\n",
       "<style scoped>\n",
       "    .dataframe tbody tr th:only-of-type {\n",
       "        vertical-align: middle;\n",
       "    }\n",
       "\n",
       "    .dataframe tbody tr th {\n",
       "        vertical-align: top;\n",
       "    }\n",
       "\n",
       "    .dataframe thead th {\n",
       "        text-align: right;\n",
       "    }\n",
       "</style>\n",
       "<table border=\"1\" class=\"dataframe\">\n",
       "  <thead>\n",
       "    <tr style=\"text-align: right;\">\n",
       "      <th></th>\n",
       "      <th>label</th>\n",
       "      <th>Segment ID</th>\n",
       "      <th>daily_volume</th>\n",
       "      <th>EB</th>\n",
       "      <th>NB</th>\n",
       "      <th>SB</th>\n",
       "      <th>WB</th>\n",
       "      <th>StreetWidt</th>\n",
       "      <th>BikeLane</th>\n",
       "      <th>TRUCK_ROUT</th>\n",
       "      <th>SHAPE_Leng</th>\n",
       "      <th>SegmentID</th>\n",
       "      <th>B</th>\n",
       "      <th>C</th>\n",
       "      <th>E</th>\n",
       "      <th>F</th>\n",
       "      <th>G</th>\n",
       "      <th>R</th>\n",
       "      <th>S</th>\n",
       "      <th>T</th>\n",
       "      <th>U</th>\n",
       "    </tr>\n",
       "  </thead>\n",
       "  <tbody>\n",
       "    <tr>\n",
       "      <th>0</th>\n",
       "      <td>low</td>\n",
       "      <td>1416</td>\n",
       "      <td>4617.25</td>\n",
       "      <td>0</td>\n",
       "      <td>1</td>\n",
       "      <td>0</td>\n",
       "      <td>0</td>\n",
       "      <td>24.0</td>\n",
       "      <td>0.0</td>\n",
       "      <td>2.0</td>\n",
       "      <td>837.375822</td>\n",
       "      <td>1416</td>\n",
       "      <td>0</td>\n",
       "      <td>0</td>\n",
       "      <td>0</td>\n",
       "      <td>0</td>\n",
       "      <td>0</td>\n",
       "      <td>0</td>\n",
       "      <td>0</td>\n",
       "      <td>0</td>\n",
       "      <td>1</td>\n",
       "    </tr>\n",
       "    <tr>\n",
       "      <th>1</th>\n",
       "      <td>low</td>\n",
       "      <td>1416</td>\n",
       "      <td>4216.75</td>\n",
       "      <td>0</td>\n",
       "      <td>0</td>\n",
       "      <td>1</td>\n",
       "      <td>0</td>\n",
       "      <td>24.0</td>\n",
       "      <td>0.0</td>\n",
       "      <td>2.0</td>\n",
       "      <td>837.375822</td>\n",
       "      <td>1416</td>\n",
       "      <td>0</td>\n",
       "      <td>0</td>\n",
       "      <td>0</td>\n",
       "      <td>0</td>\n",
       "      <td>0</td>\n",
       "      <td>0</td>\n",
       "      <td>0</td>\n",
       "      <td>0</td>\n",
       "      <td>1</td>\n",
       "    </tr>\n",
       "    <tr>\n",
       "      <th>2</th>\n",
       "      <td>low</td>\n",
       "      <td>1883</td>\n",
       "      <td>4861.00</td>\n",
       "      <td>0</td>\n",
       "      <td>1</td>\n",
       "      <td>0</td>\n",
       "      <td>0</td>\n",
       "      <td>32.0</td>\n",
       "      <td>0.0</td>\n",
       "      <td>2.0</td>\n",
       "      <td>261.608755</td>\n",
       "      <td>1883</td>\n",
       "      <td>0</td>\n",
       "      <td>0</td>\n",
       "      <td>0</td>\n",
       "      <td>0</td>\n",
       "      <td>0</td>\n",
       "      <td>0</td>\n",
       "      <td>0</td>\n",
       "      <td>0</td>\n",
       "      <td>1</td>\n",
       "    </tr>\n",
       "    <tr>\n",
       "      <th>3</th>\n",
       "      <td>low</td>\n",
       "      <td>1883</td>\n",
       "      <td>4198.50</td>\n",
       "      <td>0</td>\n",
       "      <td>0</td>\n",
       "      <td>1</td>\n",
       "      <td>0</td>\n",
       "      <td>32.0</td>\n",
       "      <td>0.0</td>\n",
       "      <td>2.0</td>\n",
       "      <td>261.608755</td>\n",
       "      <td>1883</td>\n",
       "      <td>0</td>\n",
       "      <td>0</td>\n",
       "      <td>0</td>\n",
       "      <td>0</td>\n",
       "      <td>0</td>\n",
       "      <td>0</td>\n",
       "      <td>0</td>\n",
       "      <td>0</td>\n",
       "      <td>1</td>\n",
       "    </tr>\n",
       "    <tr>\n",
       "      <th>4</th>\n",
       "      <td>low</td>\n",
       "      <td>2147</td>\n",
       "      <td>4616.00</td>\n",
       "      <td>0</td>\n",
       "      <td>1</td>\n",
       "      <td>0</td>\n",
       "      <td>0</td>\n",
       "      <td>28.0</td>\n",
       "      <td>0.0</td>\n",
       "      <td>2.0</td>\n",
       "      <td>258.118896</td>\n",
       "      <td>2147</td>\n",
       "      <td>0</td>\n",
       "      <td>0</td>\n",
       "      <td>0</td>\n",
       "      <td>0</td>\n",
       "      <td>0</td>\n",
       "      <td>0</td>\n",
       "      <td>0</td>\n",
       "      <td>0</td>\n",
       "      <td>1</td>\n",
       "    </tr>\n",
       "    <tr>\n",
       "      <th>...</th>\n",
       "      <td>...</td>\n",
       "      <td>...</td>\n",
       "      <td>...</td>\n",
       "      <td>...</td>\n",
       "      <td>...</td>\n",
       "      <td>...</td>\n",
       "      <td>...</td>\n",
       "      <td>...</td>\n",
       "      <td>...</td>\n",
       "      <td>...</td>\n",
       "      <td>...</td>\n",
       "      <td>...</td>\n",
       "      <td>...</td>\n",
       "      <td>...</td>\n",
       "      <td>...</td>\n",
       "      <td>...</td>\n",
       "      <td>...</td>\n",
       "      <td>...</td>\n",
       "      <td>...</td>\n",
       "      <td>...</td>\n",
       "      <td>...</td>\n",
       "    </tr>\n",
       "    <tr>\n",
       "      <th>2911</th>\n",
       "      <td>low</td>\n",
       "      <td>9017037</td>\n",
       "      <td>11234.50</td>\n",
       "      <td>1</td>\n",
       "      <td>0</td>\n",
       "      <td>0</td>\n",
       "      <td>0</td>\n",
       "      <td>40.0</td>\n",
       "      <td>0.0</td>\n",
       "      <td>3.0</td>\n",
       "      <td>485.171206</td>\n",
       "      <td>9017037</td>\n",
       "      <td>0</td>\n",
       "      <td>0</td>\n",
       "      <td>0</td>\n",
       "      <td>0</td>\n",
       "      <td>0</td>\n",
       "      <td>1</td>\n",
       "      <td>0</td>\n",
       "      <td>0</td>\n",
       "      <td>0</td>\n",
       "    </tr>\n",
       "    <tr>\n",
       "      <th>2912</th>\n",
       "      <td>low</td>\n",
       "      <td>9017039</td>\n",
       "      <td>12524.00</td>\n",
       "      <td>0</td>\n",
       "      <td>0</td>\n",
       "      <td>0</td>\n",
       "      <td>1</td>\n",
       "      <td>40.0</td>\n",
       "      <td>0.0</td>\n",
       "      <td>3.0</td>\n",
       "      <td>489.880879</td>\n",
       "      <td>9017039</td>\n",
       "      <td>0</td>\n",
       "      <td>0</td>\n",
       "      <td>0</td>\n",
       "      <td>0</td>\n",
       "      <td>0</td>\n",
       "      <td>1</td>\n",
       "      <td>0</td>\n",
       "      <td>0</td>\n",
       "      <td>0</td>\n",
       "    </tr>\n",
       "    <tr>\n",
       "      <th>2913</th>\n",
       "      <td>low</td>\n",
       "      <td>9017039</td>\n",
       "      <td>12524.00</td>\n",
       "      <td>0</td>\n",
       "      <td>0</td>\n",
       "      <td>0</td>\n",
       "      <td>1</td>\n",
       "      <td>40.0</td>\n",
       "      <td>0.0</td>\n",
       "      <td>3.0</td>\n",
       "      <td>489.880879</td>\n",
       "      <td>9017039</td>\n",
       "      <td>0</td>\n",
       "      <td>0</td>\n",
       "      <td>0</td>\n",
       "      <td>0</td>\n",
       "      <td>0</td>\n",
       "      <td>1</td>\n",
       "      <td>0</td>\n",
       "      <td>0</td>\n",
       "      <td>0</td>\n",
       "    </tr>\n",
       "    <tr>\n",
       "      <th>2914</th>\n",
       "      <td>low</td>\n",
       "      <td>9017039</td>\n",
       "      <td>12524.00</td>\n",
       "      <td>0</td>\n",
       "      <td>0</td>\n",
       "      <td>0</td>\n",
       "      <td>1</td>\n",
       "      <td>40.0</td>\n",
       "      <td>0.0</td>\n",
       "      <td>3.0</td>\n",
       "      <td>489.880879</td>\n",
       "      <td>9017039</td>\n",
       "      <td>0</td>\n",
       "      <td>0</td>\n",
       "      <td>0</td>\n",
       "      <td>0</td>\n",
       "      <td>0</td>\n",
       "      <td>1</td>\n",
       "      <td>0</td>\n",
       "      <td>0</td>\n",
       "      <td>0</td>\n",
       "    </tr>\n",
       "    <tr>\n",
       "      <th>2915</th>\n",
       "      <td>low</td>\n",
       "      <td>9017050</td>\n",
       "      <td>12812.25</td>\n",
       "      <td>0</td>\n",
       "      <td>0</td>\n",
       "      <td>1</td>\n",
       "      <td>0</td>\n",
       "      <td>60.0</td>\n",
       "      <td>1.0</td>\n",
       "      <td>2.0</td>\n",
       "      <td>207.778403</td>\n",
       "      <td>9017050</td>\n",
       "      <td>0</td>\n",
       "      <td>0</td>\n",
       "      <td>0</td>\n",
       "      <td>0</td>\n",
       "      <td>0</td>\n",
       "      <td>0</td>\n",
       "      <td>0</td>\n",
       "      <td>0</td>\n",
       "      <td>1</td>\n",
       "    </tr>\n",
       "  </tbody>\n",
       "</table>\n",
       "<p>2916 rows × 21 columns</p>\n",
       "</div>"
      ],
      "text/plain": [
       "     label  Segment ID  daily_volume  EB  NB  SB  WB  ...  E  F  G  R  S  T  U\n",
       "0      low        1416       4617.25   0   1   0   0  ...  0  0  0  0  0  0  1\n",
       "1      low        1416       4216.75   0   0   1   0  ...  0  0  0  0  0  0  1\n",
       "2      low        1883       4861.00   0   1   0   0  ...  0  0  0  0  0  0  1\n",
       "3      low        1883       4198.50   0   0   1   0  ...  0  0  0  0  0  0  1\n",
       "4      low        2147       4616.00   0   1   0   0  ...  0  0  0  0  0  0  1\n",
       "...    ...         ...           ...  ..  ..  ..  ..  ... .. .. .. .. .. .. ..\n",
       "2911   low     9017037      11234.50   1   0   0   0  ...  0  0  0  1  0  0  0\n",
       "2912   low     9017039      12524.00   0   0   0   1  ...  0  0  0  1  0  0  0\n",
       "2913   low     9017039      12524.00   0   0   0   1  ...  0  0  0  1  0  0  0\n",
       "2914   low     9017039      12524.00   0   0   0   1  ...  0  0  0  1  0  0  0\n",
       "2915   low     9017050      12812.25   0   0   1   0  ...  0  0  0  0  0  0  1\n",
       "\n",
       "[2916 rows x 21 columns]"
      ]
     },
     "execution_count": 25,
     "metadata": {},
     "output_type": "execute_result"
    }
   ],
   "source": [
    "weekend_RF2"
   ]
  },
  {
   "cell_type": "code",
   "execution_count": 26,
   "metadata": {
    "colab": {
     "base_uri": "https://localhost:8080/"
    },
    "executionInfo": {
     "elapsed": 69,
     "status": "ok",
     "timestamp": 1629477495417,
     "user": {
      "displayName": "Jaehee Kim",
      "photoUrl": "",
      "userId": "18030231322356011220"
     },
     "user_tz": 240
    },
    "id": "o6VrD7Uk9haw",
    "outputId": "f83f8590-703e-4b46-9618-7a64725f86f9"
   },
   "outputs": [
    {
     "data": {
      "text/plain": [
       "Index(['label', 'Segment ID', 'daily_volume', 'EB', 'NB', 'SB', 'WB',\n",
       "       'StreetWidt', 'BikeLane', 'TRUCK_ROUT', 'SHAPE_Leng', 'SegmentID', 'B',\n",
       "       'C', 'E', 'F', 'G', 'R', 'S', 'T', 'U'],\n",
       "      dtype='object')"
      ]
     },
     "execution_count": 26,
     "metadata": {},
     "output_type": "execute_result"
    }
   ],
   "source": [
    "weekday_RF2.columns"
   ]
  },
  {
   "cell_type": "markdown",
   "metadata": {
    "id": "kM3jQBgUhw3k"
   },
   "source": [
    "**Weekend Traffic Data**"
   ]
  },
  {
   "cell_type": "code",
   "execution_count": 27,
   "metadata": {
    "colab": {
     "base_uri": "https://localhost:8080/"
    },
    "executionInfo": {
     "elapsed": 65,
     "status": "ok",
     "timestamp": 1629477495418,
     "user": {
      "displayName": "Jaehee Kim",
      "photoUrl": "",
      "userId": "18030231322356011220"
     },
     "user_tz": 240
    },
    "id": "ZXqIPWFu-oV1",
    "outputId": "14d857e7-9ca1-4b18-ab96-2180b66271e2"
   },
   "outputs": [
    {
     "data": {
      "text/plain": [
       "(2916, 21)"
      ]
     },
     "execution_count": 27,
     "metadata": {},
     "output_type": "execute_result"
    }
   ],
   "source": [
    "weekend_RF2.shape"
   ]
  },
  {
   "cell_type": "code",
   "execution_count": 28,
   "metadata": {
    "colab": {
     "base_uri": "https://localhost:8080/"
    },
    "executionInfo": {
     "elapsed": 61,
     "status": "ok",
     "timestamp": 1629477495419,
     "user": {
      "displayName": "Jaehee Kim",
      "photoUrl": "",
      "userId": "18030231322356011220"
     },
     "user_tz": 240
    },
    "id": "hFJHRN7K-kuZ",
    "outputId": "39622fe2-58b3-44ee-cfd7-4bf1d0d12309"
   },
   "outputs": [
    {
     "data": {
      "text/plain": [
       "(2914, 21)"
      ]
     },
     "execution_count": 28,
     "metadata": {},
     "output_type": "execute_result"
    }
   ],
   "source": [
    "weekend_F=weekend_RF2.dropna()\n",
    "weekend_F.shape"
   ]
  },
  {
   "cell_type": "code",
   "execution_count": 29,
   "metadata": {
    "executionInfo": {
     "elapsed": 56,
     "status": "ok",
     "timestamp": 1629477495419,
     "user": {
      "displayName": "Jaehee Kim",
      "photoUrl": "",
      "userId": "18030231322356011220"
     },
     "user_tz": 240
    },
    "id": "Vo4_fLJ9qufa"
   },
   "outputs": [],
   "source": [
    "# Let's take'label'as the target variable. \n",
    "y=weekend_F.loc[:,'label']\n",
    "y=pd.get_dummies(y)\n",
    "\n",
    "# Get the feature space. \n",
    "X=weekend_F[[  'EB', 'NB', 'SB', 'WB',\n",
    "       'StreetWidt', 'BikeLane', 'TRUCK_ROUT', 'SHAPE_Leng', 'B',\n",
    "       'C', 'E', 'F', 'G', 'R', 'S', 'T', 'U']]"
   ]
  },
  {
   "cell_type": "code",
   "execution_count": 30,
   "metadata": {
    "colab": {
     "base_uri": "https://localhost:8080/"
    },
    "executionInfo": {
     "elapsed": 56,
     "status": "ok",
     "timestamp": 1629477495420,
     "user": {
      "displayName": "Jaehee Kim",
      "photoUrl": "",
      "userId": "18030231322356011220"
     },
     "user_tz": 240
    },
    "id": "zS2T3OcOq2Bk",
    "outputId": "a032679d-3a73-4373-ab66-a0c943841c4a"
   },
   "outputs": [
    {
     "name": "stdout",
     "output_type": "stream",
     "text": [
      "      EB  NB  SB  WB  StreetWidt  BikeLane  TRUCK_ROUT  ...  E  F  G  R  S  T  U\n",
      "711    1   0   0   0        40.0       0.0         0.0  ...  0  0  0  0  0  0  1\n",
      "384    0   1   0   0        56.0       0.0         2.0  ...  0  0  0  0  0  0  1\n",
      "955    0   1   0   0        50.0       2.0         0.0  ...  0  0  0  0  0  0  1\n",
      "1636   0   0   1   0        22.0       0.0         0.0  ...  0  0  0  0  0  0  1\n",
      "718    0   0   1   0        60.0       2.0         0.0  ...  0  0  0  0  0  0  1\n",
      "\n",
      "[5 rows x 17 columns]\n"
     ]
    }
   ],
   "source": [
    "X_train,X_test,y_train,y_test=train_test_split(X, y, test_size=0.3, random_state=999)\n",
    "print (X_train.head())"
   ]
  },
  {
   "cell_type": "code",
   "execution_count": 31,
   "metadata": {
    "colab": {
     "base_uri": "https://localhost:8080/"
    },
    "executionInfo": {
     "elapsed": 52,
     "status": "ok",
     "timestamp": 1629477495421,
     "user": {
      "displayName": "Jaehee Kim",
      "photoUrl": "",
      "userId": "18030231322356011220"
     },
     "user_tz": 240
    },
    "id": "tvFtL_EH-ZlI",
    "outputId": "73c54d8b-f743-4ea1-8f46-48d6724c8255"
   },
   "outputs": [
    {
     "name": "stdout",
     "output_type": "stream",
     "text": [
      "<class 'pandas.core.frame.DataFrame'>\n",
      "Int64Index: 2039 entries, 711 to 1474\n",
      "Data columns (total 17 columns):\n",
      " #   Column      Non-Null Count  Dtype  \n",
      "---  ------      --------------  -----  \n",
      " 0   EB          2039 non-null   uint8  \n",
      " 1   NB          2039 non-null   uint8  \n",
      " 2   SB          2039 non-null   uint8  \n",
      " 3   WB          2039 non-null   uint8  \n",
      " 4   StreetWidt  2039 non-null   float64\n",
      " 5   BikeLane    2039 non-null   float64\n",
      " 6   TRUCK_ROUT  2039 non-null   float64\n",
      " 7   SHAPE_Leng  2039 non-null   float64\n",
      " 8   B           2039 non-null   uint8  \n",
      " 9   C           2039 non-null   uint8  \n",
      " 10  E           2039 non-null   uint8  \n",
      " 11  F           2039 non-null   uint8  \n",
      " 12  G           2039 non-null   uint8  \n",
      " 13  R           2039 non-null   uint8  \n",
      " 14  S           2039 non-null   uint8  \n",
      " 15  T           2039 non-null   uint8  \n",
      " 16  U           2039 non-null   uint8  \n",
      "dtypes: float64(4), uint8(13)\n",
      "memory usage: 105.5 KB\n"
     ]
    }
   ],
   "source": [
    "X_train.info()"
   ]
  },
  {
   "cell_type": "code",
   "execution_count": 32,
   "metadata": {
    "colab": {
     "base_uri": "https://localhost:8080/",
     "height": 202
    },
    "executionInfo": {
     "elapsed": 48,
     "status": "ok",
     "timestamp": 1629477495421,
     "user": {
      "displayName": "Jaehee Kim",
      "photoUrl": "",
      "userId": "18030231322356011220"
     },
     "user_tz": 240
    },
    "id": "XarmtydPq2mU",
    "outputId": "f5e456b8-f2b5-4167-dbbe-3f7914836f95"
   },
   "outputs": [
    {
     "data": {
      "text/html": [
       "<div>\n",
       "<style scoped>\n",
       "    .dataframe tbody tr th:only-of-type {\n",
       "        vertical-align: middle;\n",
       "    }\n",
       "\n",
       "    .dataframe tbody tr th {\n",
       "        vertical-align: top;\n",
       "    }\n",
       "\n",
       "    .dataframe thead th {\n",
       "        text-align: right;\n",
       "    }\n",
       "</style>\n",
       "<table border=\"1\" class=\"dataframe\">\n",
       "  <thead>\n",
       "    <tr style=\"text-align: right;\">\n",
       "      <th></th>\n",
       "      <th>high</th>\n",
       "      <th>low</th>\n",
       "      <th>medium</th>\n",
       "    </tr>\n",
       "  </thead>\n",
       "  <tbody>\n",
       "    <tr>\n",
       "      <th>711</th>\n",
       "      <td>0</td>\n",
       "      <td>1</td>\n",
       "      <td>0</td>\n",
       "    </tr>\n",
       "    <tr>\n",
       "      <th>384</th>\n",
       "      <td>0</td>\n",
       "      <td>1</td>\n",
       "      <td>0</td>\n",
       "    </tr>\n",
       "    <tr>\n",
       "      <th>955</th>\n",
       "      <td>0</td>\n",
       "      <td>1</td>\n",
       "      <td>0</td>\n",
       "    </tr>\n",
       "    <tr>\n",
       "      <th>1636</th>\n",
       "      <td>0</td>\n",
       "      <td>1</td>\n",
       "      <td>0</td>\n",
       "    </tr>\n",
       "    <tr>\n",
       "      <th>718</th>\n",
       "      <td>0</td>\n",
       "      <td>1</td>\n",
       "      <td>0</td>\n",
       "    </tr>\n",
       "  </tbody>\n",
       "</table>\n",
       "</div>"
      ],
      "text/plain": [
       "      high  low  medium\n",
       "711      0    1       0\n",
       "384      0    1       0\n",
       "955      0    1       0\n",
       "1636     0    1       0\n",
       "718      0    1       0"
      ]
     },
     "execution_count": 32,
     "metadata": {},
     "output_type": "execute_result"
    }
   ],
   "source": [
    "y_train.head()"
   ]
  },
  {
   "cell_type": "code",
   "execution_count": 33,
   "metadata": {
    "colab": {
     "base_uri": "https://localhost:8080/"
    },
    "executionInfo": {
     "elapsed": 422,
     "status": "ok",
     "timestamp": 1629477495798,
     "user": {
      "displayName": "Jaehee Kim",
      "photoUrl": "",
      "userId": "18030231322356011220"
     },
     "user_tz": 240
    },
    "id": "YZmYXiAJq5nu",
    "outputId": "4ad204f0-7a58-43e9-9adb-b6b3c9364d53"
   },
   "outputs": [
    {
     "name": "stdout",
     "output_type": "stream",
     "text": [
      "[0.8422857142857143, 0.8834285714285715, 0.8811428571428571, 0.8948571428571429, 0.8971428571428571, 0.8982857142857142, 0.9017142857142857, 0.9074285714285715, 0.904, 0.9165714285714286, 0.9108571428571428, 0.9085714285714286, 0.912, 0.9097142857142857, 0.9154285714285715, 0.9108571428571428, 0.9154285714285715, 0.9131428571428571, 0.9062857142857143, 0.9074285714285715]\n"
     ]
    }
   ],
   "source": [
    "OS=[]\n",
    "for i in range(2,500,25):\n",
    "    \n",
    "    dt = DecisionTreeClassifier(max_leaf_nodes=i)\n",
    "    dt.fit(X_train,y_train)\n",
    "    OS.append(dt.score(X_test,y_test))\n",
    "print (OS)"
   ]
  },
  {
   "cell_type": "code",
   "execution_count": 34,
   "metadata": {
    "executionInfo": {
     "elapsed": 16,
     "status": "ok",
     "timestamp": 1629477495799,
     "user": {
      "displayName": "Jaehee Kim",
      "photoUrl": "",
      "userId": "18030231322356011220"
     },
     "user_tz": 240
    },
    "id": "F3YnLksh-0E7"
   },
   "outputs": [],
   "source": [
    "import matplotlib.pylab as plt"
   ]
  },
  {
   "cell_type": "code",
   "execution_count": 35,
   "metadata": {
    "colab": {
     "base_uri": "https://localhost:8080/",
     "height": 350
    },
    "executionInfo": {
     "elapsed": 15,
     "status": "ok",
     "timestamp": 1629477495799,
     "user": {
      "displayName": "Jaehee Kim",
      "photoUrl": "",
      "userId": "18030231322356011220"
     },
     "user_tz": 240
    },
    "id": "BRhT1NZD-6ei",
    "outputId": "c96d7c4d-66a0-4be9-908e-9e2c6a01ea5c"
   },
   "outputs": [
    {
     "data": {
      "image/png": "[encoded data removed]",
      "text/plain": [
       "<Figure size 504x360 with 1 Axes>"
      ]
     },
     "metadata": {
      "needs_background": "light"
     },
     "output_type": "display_data"
    }
   ],
   "source": [
    "plt.figure(figsize=(7,5))\n",
    "plt.plot(range(2,500,25),OS)\n",
    "plt.xlabel(\"Max leaf nodes\")\n",
    "plt.ylabel(\"Accuracy\")\n",
    "plt.title(\"Accuracy vs Simplicity (max leaf nodes)\")\n",
    "plt.xlim(2,500)\n",
    "plt.show()"
   ]
  },
  {
   "cell_type": "code",
   "execution_count": 36,
   "metadata": {
    "executionInfo": {
     "elapsed": 14,
     "status": "ok",
     "timestamp": 1629477495800,
     "user": {
      "displayName": "Jaehee Kim",
      "photoUrl": "",
      "userId": "18030231322356011220"
     },
     "user_tz": 240
    },
    "id": "Hu6JiSIM-9HD"
   },
   "outputs": [],
   "source": [
    "from sklearn.model_selection import GridSearchCV"
   ]
  },
  {
   "cell_type": "code",
   "execution_count": 37,
   "metadata": {
    "colab": {
     "base_uri": "https://localhost:8080/"
    },
    "executionInfo": {
     "elapsed": 885,
     "status": "ok",
     "timestamp": 1629477496672,
     "user": {
      "displayName": "Jaehee Kim",
      "photoUrl": "",
      "userId": "18030231322356011220"
     },
     "user_tz": 240
    },
    "id": "BHmr3Z4V_ANz",
    "outputId": "7247bcd7-25ee-4f46-a432-43aebfe6a490"
   },
   "outputs": [
    {
     "name": "stdout",
     "output_type": "stream",
     "text": [
      "{'max_leaf_nodes': 402}\n",
      "Out of sample accuracy: 0.912\n"
     ]
    }
   ],
   "source": [
    "param_grid ={'max_leaf_nodes':range(2,500,25)}\n",
    "dt=DecisionTreeClassifier()\n",
    "gr=GridSearchCV(dt,param_grid=param_grid)\n",
    "rs= gr.fit(X_train,y_train)\n",
    "print (rs.best_params_)\n",
    "print ('Out of sample accuracy:',rs.score(X_test,y_test))"
   ]
  },
  {
   "cell_type": "code",
   "execution_count": 38,
   "metadata": {
    "colab": {
     "base_uri": "https://localhost:8080/",
     "height": 450
    },
    "executionInfo": {
     "elapsed": 1411,
     "status": "ok",
     "timestamp": 1629477498081,
     "user": {
      "displayName": "Jaehee Kim",
      "photoUrl": "",
      "userId": "18030231322356011220"
     },
     "user_tz": 240
    },
    "id": "eY3m85FQ_GqK",
    "outputId": "d8678053-4199-4f6b-eb16-956c9742b8b3"
   },
   "outputs": [
    {
     "name": "stdout",
     "output_type": "stream",
     "text": [
      "digraph Tree {\n",
      "node [shape=box, style=\"filled, rounded\", color=\"black\", fontname=helvetica] ;\n",
      "edge [fontname=helvetica] ;\n",
      "0 [label=\"R <= 0.5, samples = 2039, value = [[1952, 87], [297, 1742], [1829, 210]]\", fillcolor=\"#eeab7b\"] ;\n",
      "1 [label=\"TRUCK_ROUT <= 2.5, samples = 1585, value = [[1581, 4], [99, 1486], [1490, 95]]\", fillcolor=\"#e68742\"] ;\n",
      "0 -> 1 [labeldistance=2.5, labelangle=45, headlabel=\"True\"] ;\n",
      "2 [label=\"samples = 1511, value = [[1509, 2], [75, 1436], [1438, 73]]\", fillcolor=\"#e58139\"] ;\n",
      "1 -> 2 ;\n",
      "3 [label=\"samples = 74, value = [[72, 2], [24, 50], [52, 22]]\", fillcolor=\"#f8deca\"] ;\n",
      "1 -> 3 ;\n",
      "4 [label=\"StreetWidt <= 49.0, samples = 454, value = [[371, 83], [198, 256], [339, 115]]\", fillcolor=\"#ffffff\"] ;\n",
      "0 -> 4 [labeldistance=2.5, labelangle=-45, headlabel=\"False\"] ;\n",
      "5 [label=\"samples = 433, value = [[352, 81], [179, 254], [335, 98]]\", fillcolor=\"#fefbf9\"] ;\n",
      "4 -> 5 ;\n",
      "6 [label=\"samples = 21, value = [[19, 2], [19, 2], [4, 17]]\", fillcolor=\"#f1bd97\"] ;\n",
      "4 -> 6 ;\n",
      "}\n"
     ]
    },
    {
     "data": {
      "image/png": "[encoded data removed]",
      "text/plain": [
       "<IPython.core.display.Image object>"
      ]
     },
     "execution_count": 38,
     "metadata": {},
     "output_type": "execute_result"
    }
   ],
   "source": [
    "from sklearn import tree\n",
    "from IPython.display import Image  \n",
    "import pydotplus\n",
    "import cv2\n",
    "\n",
    "dt = DecisionTreeClassifier(max_depth=2) \n",
    "dt.fit(X_train,y_train)\n",
    "\n",
    "thestring=tree.export_graphviz(dt,out_file=None,\n",
    "                         feature_names=X_train.columns.values,  \n",
    "                         class_names=dt.classes_,  \n",
    "                         filled=True, rounded=True,  \n",
    "                         special_characters=True,impurity=False).replace(\"<br/>\",\", \").replace(\"&le;\",\"<=\").replace(\"=<\",\"=\\\"\").replace(\">,\",\"\\\",\")\n",
    "print(thestring)\n",
    "graph = pydotplus.graph_from_dot_data(thestring) \n",
    "# pydot_graph= pydotplus.graph_from_dot_data(stream.getvalue()) \n",
    "graph.set_size('\"55,15!\"')\n",
    "Image(graph.create_png())"
   ]
  },
  {
   "cell_type": "code",
   "execution_count": 39,
   "metadata": {
    "executionInfo": {
     "elapsed": 6,
     "status": "ok",
     "timestamp": 1629477498081,
     "user": {
      "displayName": "Jaehee Kim",
      "photoUrl": "",
      "userId": "18030231322356011220"
     },
     "user_tz": 240
    },
    "id": "Zhaxjweu_RYu"
   },
   "outputs": [],
   "source": [
    "from sklearn.ensemble import RandomForestClassifier\n",
    "from sklearn.model_selection import GridSearchCV"
   ]
  },
  {
   "cell_type": "code",
   "execution_count": 40,
   "metadata": {
    "colab": {
     "base_uri": "https://localhost:8080/"
    },
    "executionInfo": {
     "elapsed": 28070,
     "status": "ok",
     "timestamp": 1629477526146,
     "user": {
      "displayName": "Jaehee Kim",
      "photoUrl": "",
      "userId": "18030231322356011220"
     },
     "user_tz": 240
    },
    "id": "WnwH6mX4_R-l",
    "outputId": "6446cac0-0ac8-48b0-ca2b-a194136b2840"
   },
   "outputs": [
    {
     "name": "stdout",
     "output_type": "stream",
     "text": [
      "{'max_leaf_nodes': 327}\n",
      "Out of sample accuracy: 0.9005714285714286\n"
     ]
    }
   ],
   "source": [
    "param_grid ={'max_leaf_nodes':range(2,500,25)}\n",
    "dt=RandomForestClassifier()\n",
    "gr=GridSearchCV(dt,param_grid=param_grid)\n",
    "rs= gr.fit(X_train,y_train)\n",
    "print (rs.best_params_)\n",
    "print ('Out of sample accuracy:',rs.score(X_test,y_test))"
   ]
  },
  {
   "cell_type": "markdown",
   "metadata": {
    "id": "NkLnJ0OhiAKV"
   },
   "source": [
    "**Weekday Traffic Data**"
   ]
  },
  {
   "cell_type": "code",
   "execution_count": 41,
   "metadata": {
    "colab": {
     "base_uri": "https://localhost:8080/"
    },
    "executionInfo": {
     "elapsed": 16,
     "status": "ok",
     "timestamp": 1629477526147,
     "user": {
      "displayName": "Jaehee Kim",
      "photoUrl": "",
      "userId": "18030231322356011220"
     },
     "user_tz": 240
    },
    "id": "BlbUwSnS-Fpi",
    "outputId": "a70025fa-9ff4-4f57-dbfa-e253b61948f0"
   },
   "outputs": [
    {
     "data": {
      "text/plain": [
       "(3089, 21)"
      ]
     },
     "execution_count": 41,
     "metadata": {},
     "output_type": "execute_result"
    }
   ],
   "source": [
    "weekday_RF2.shape"
   ]
  },
  {
   "cell_type": "code",
   "execution_count": 42,
   "metadata": {
    "colab": {
     "base_uri": "https://localhost:8080/"
    },
    "executionInfo": {
     "elapsed": 14,
     "status": "ok",
     "timestamp": 1629477526147,
     "user": {
      "displayName": "Jaehee Kim",
      "photoUrl": "",
      "userId": "18030231322356011220"
     },
     "user_tz": 240
    },
    "id": "ctoisQlnrHoX",
    "outputId": "81f1bd03-5dce-4cc6-f836-ca8b9d089590"
   },
   "outputs": [
    {
     "data": {
      "text/plain": [
       "(3089, 21)"
      ]
     },
     "execution_count": 42,
     "metadata": {},
     "output_type": "execute_result"
    }
   ],
   "source": [
    "weekday_F=weekday_RF2.dropna()\n",
    "weekday_F.shape"
   ]
  },
  {
   "cell_type": "code",
   "execution_count": 43,
   "metadata": {
    "executionInfo": {
     "elapsed": 98,
     "status": "ok",
     "timestamp": 1629477759171,
     "user": {
      "displayName": "Jaehee Kim",
      "photoUrl": "",
      "userId": "18030231322356011220"
     },
     "user_tz": 240
    },
    "id": "mW1ohJZ3hh4F"
   },
   "outputs": [],
   "source": [
    "# Let's take'label'as the target variable. \n",
    "y=weekday_F.loc[:,'label']\n",
    "y=pd.get_dummies(y)\n",
    "\n",
    "# Get the feature space. \n",
    "X=weekday_F[[  'EB', 'NB', 'SB', 'WB',\n",
    "       'StreetWidt', 'BikeLane', 'TRUCK_ROUT', 'SHAPE_Leng', 'B',\n",
    "       'C', 'E', 'F', 'G', 'R', 'S', 'T', 'U']]"
   ]
  },
  {
   "cell_type": "code",
   "execution_count": 44,
   "metadata": {
    "colab": {
     "base_uri": "https://localhost:8080/"
    },
    "executionInfo": {
     "elapsed": 103,
     "status": "ok",
     "timestamp": 1629477765476,
     "user": {
      "displayName": "Jaehee Kim",
      "photoUrl": "",
      "userId": "18030231322356011220"
     },
     "user_tz": 240
    },
    "id": "DSPo44dfcW65",
    "outputId": "d4f91af9-735b-4889-e5f5-347c85a88d6d"
   },
   "outputs": [
    {
     "name": "stdout",
     "output_type": "stream",
     "text": [
      "      EB  NB  SB  WB  StreetWidt  BikeLane  TRUCK_ROUT  ...  E  F  G  R  S  T  U\n",
      "1737   0   0   0   1        70.0       0.0         2.0  ...  0  0  0  0  0  0  1\n",
      "248    0   1   0   0        48.0       0.0         0.0  ...  0  0  0  0  0  0  1\n",
      "568    0   0   1   0        50.0       1.0         0.0  ...  0  0  0  0  0  0  1\n",
      "2631   0   1   0   0        40.0       0.0         0.0  ...  0  0  0  0  0  0  1\n",
      "1959   0   0   0   1        30.0       0.0         2.0  ...  0  0  0  0  0  0  1\n",
      "\n",
      "[5 rows x 17 columns]\n"
     ]
    }
   ],
   "source": [
    "X_train,X_test,y_train,y_test=train_test_split(X, y, test_size=0.3, random_state=999)\n",
    "print (X_train.head())"
   ]
  },
  {
   "cell_type": "code",
   "execution_count": 45,
   "metadata": {
    "colab": {
     "base_uri": "https://localhost:8080/"
    },
    "executionInfo": {
     "elapsed": 272,
     "status": "ok",
     "timestamp": 1629477774006,
     "user": {
      "displayName": "Jaehee Kim",
      "photoUrl": "",
      "userId": "18030231322356011220"
     },
     "user_tz": 240
    },
    "id": "FWUDwyG-cY1j",
    "outputId": "dfd4121f-05af-4011-fc5c-048dd1dd44d3"
   },
   "outputs": [
    {
     "name": "stdout",
     "output_type": "stream",
     "text": [
      "[0.8284789644012945, 0.8619201725997843, 0.8856526429341963, 0.8813376483279396, 0.8856526429341963, 0.8921251348435815, 0.8856526429341963, 0.8888888888888888, 0.8910463861920173, 0.889967637540453, 0.8867313915857605, 0.8932038834951457, 0.8921251348435815, 0.8975188781014024, 0.8910463861920173, 0.889967637540453, 0.895361380798274, 0.8910463861920173, 0.8878101402373247, 0.8910463861920173]\n"
     ]
    }
   ],
   "source": [
    "OS=[]\n",
    "for i in range(2,500,25):\n",
    "    \n",
    "    dt = DecisionTreeClassifier(max_leaf_nodes=i)\n",
    "    dt.fit(X_train,y_train)\n",
    "    OS.append(dt.score(X_test,y_test))\n",
    "print (OS)"
   ]
  },
  {
   "cell_type": "code",
   "execution_count": 46,
   "metadata": {
    "colab": {
     "base_uri": "https://localhost:8080/",
     "height": 350
    },
    "executionInfo": {
     "elapsed": 332,
     "status": "ok",
     "timestamp": 1629477782061,
     "user": {
      "displayName": "Jaehee Kim",
      "photoUrl": "",
      "userId": "18030231322356011220"
     },
     "user_tz": 240
    },
    "id": "tt_ZBszWcbih",
    "outputId": "384d38b1-957f-42b4-abfd-733101cafccf"
   },
   "outputs": [
    {
     "data": {
      "image/png": "[encoded data removed]",
      "text/plain": [
       "<Figure size 504x360 with 1 Axes>"
      ]
     },
     "metadata": {
      "needs_background": "light"
     },
     "output_type": "display_data"
    }
   ],
   "source": [
    "plt.figure(figsize=(7,5))\n",
    "plt.plot(range(2,500,25),OS)\n",
    "plt.xlabel(\"Max leaf nodes\")\n",
    "plt.ylabel(\"Accuracy\")\n",
    "plt.title(\"Accuracy vs Simplicity (max leaf nodes)\")\n",
    "plt.xlim(2,500)\n",
    "plt.show()"
   ]
  },
  {
   "cell_type": "code",
   "execution_count": 47,
   "metadata": {
    "colab": {
     "base_uri": "https://localhost:8080/"
    },
    "executionInfo": {
     "elapsed": 1129,
     "status": "ok",
     "timestamp": 1629477791481,
     "user": {
      "displayName": "Jaehee Kim",
      "photoUrl": "",
      "userId": "18030231322356011220"
     },
     "user_tz": 240
    },
    "id": "zhtnUxhAccyj",
    "outputId": "93664aad-f0a4-4ae3-b74f-2817be516792"
   },
   "outputs": [
    {
     "name": "stdout",
     "output_type": "stream",
     "text": [
      "{'max_leaf_nodes': 227}\n",
      "Out of sample accuracy: 0.8921251348435815\n"
     ]
    }
   ],
   "source": [
    "param_grid ={'max_leaf_nodes':range(2,500,25)}\n",
    "dt=DecisionTreeClassifier()\n",
    "gr=GridSearchCV(dt,param_grid=param_grid)\n",
    "rs= gr.fit(X_train,y_train)\n",
    "print (rs.best_params_)\n",
    "print ('Out of sample accuracy:',rs.score(X_test,y_test))"
   ]
  },
  {
   "cell_type": "code",
   "execution_count": 48,
   "metadata": {
    "colab": {
     "base_uri": "https://localhost:8080/",
     "height": 447
    },
    "executionInfo": {
     "elapsed": 591,
     "status": "ok",
     "timestamp": 1629477814461,
     "user": {
      "displayName": "Jaehee Kim",
      "photoUrl": "",
      "userId": "18030231322356011220"
     },
     "user_tz": 240
    },
    "id": "nqdjRCWIce2l",
    "outputId": "05179318-ef94-42e7-a285-5cec99015180"
   },
   "outputs": [
    {
     "name": "stdout",
     "output_type": "stream",
     "text": [
      "digraph Tree {\n",
      "node [shape=box, style=\"filled, rounded\", color=\"black\", fontname=helvetica] ;\n",
      "edge [fontname=helvetica] ;\n",
      "0 [label=\"R <= 0.5, samples = 2162, value = [[2062, 100], [342, 1820], [1920, 242]]\", fillcolor=\"#eeac7d\"] ;\n",
      "1 [label=\"StreetWidt <= 63.0, samples = 1699, value = [[1695, 4], [125, 1574], [1578, 121]]\", fillcolor=\"#e78b49\"] ;\n",
      "0 -> 1 [labeldistance=2.5, labelangle=45, headlabel=\"True\"] ;\n",
      "2 [label=\"samples = 1523, value = [[1520, 3], [90, 1433], [1436, 87]]\", fillcolor=\"#e68540\"] ;\n",
      "1 -> 2 ;\n",
      "3 [label=\"samples = 176, value = [[175, 1], [35, 141], [142, 34]]\", fillcolor=\"#f0b78d\"] ;\n",
      "1 -> 3 ;\n",
      "4 [label=\"BikeLane <= 0.5, samples = 463, value = [[367, 96], [217, 246], [342, 121]]\", fillcolor=\"#fefaf7\"] ;\n",
      "0 -> 4 [labeldistance=2.5, labelangle=-45, headlabel=\"False\"] ;\n",
      "5 [label=\"samples = 422, value = [[326, 96], [215, 207], [303, 119]]\", fillcolor=\"#ffffff\"] ;\n",
      "4 -> 5 ;\n",
      "6 [label=\"samples = 41, value = [[41, 0], [2, 39], [39, 2]]\", fillcolor=\"#e58139\"] ;\n",
      "4 -> 6 ;\n",
      "}\n"
     ]
    },
    {
     "data": {
      "image/png": "[encoded data removed]",
      "text/plain": [
       "<IPython.core.display.Image object>"
      ]
     },
     "execution_count": 48,
     "metadata": {},
     "output_type": "execute_result"
    }
   ],
   "source": [
    "dt = DecisionTreeClassifier(max_depth=2) \n",
    "dt.fit(X_train,y_train)\n",
    "\n",
    "thestring=tree.export_graphviz(dt,out_file=None,\n",
    "                         feature_names=X_train.columns.values,  \n",
    "                         class_names=dt.classes_,  \n",
    "                         filled=True, rounded=True,  \n",
    "                         special_characters=True,impurity=False).replace(\"<br/>\",\", \").replace(\"&le;\",\"<=\").replace(\"=<\",\"=\\\"\").replace(\">,\",\"\\\",\")\n",
    "print(thestring)\n",
    "graph = pydotplus.graph_from_dot_data(thestring) \n",
    "# pydot_graph= pydotplus.graph_from_dot_data(stream.getvalue()) \n",
    "graph.set_size('\"55,15!\"')\n",
    "Image(graph.create_png())"
   ]
  },
  {
   "cell_type": "code",
   "execution_count": 49,
   "metadata": {
    "colab": {
     "base_uri": "https://localhost:8080/"
    },
    "executionInfo": {
     "elapsed": 29286,
     "status": "ok",
     "timestamp": 1629477851184,
     "user": {
      "displayName": "Jaehee Kim",
      "photoUrl": "",
      "userId": "18030231322356011220"
     },
     "user_tz": 240
    },
    "id": "zOiEGFtvclZn",
    "outputId": "e33902b5-8b47-410d-8587-c7b69fa7f68c"
   },
   "outputs": [
    {
     "name": "stdout",
     "output_type": "stream",
     "text": [
      "{'max_leaf_nodes': 227}\n",
      "Out of sample accuracy: 0.889967637540453\n"
     ]
    }
   ],
   "source": [
    "param_grid ={'max_leaf_nodes':range(2,500,25)}\n",
    "dt=RandomForestClassifier()\n",
    "gr=GridSearchCV(dt,param_grid=param_grid)\n",
    "rs= gr.fit(X_train,y_train)\n",
    "print (rs.best_params_)\n",
    "print ('Out of sample accuracy:',rs.score(X_test,y_test))"
   ]
  }
 ],
 "metadata": {
  "colab": {
   "authorship_tag": "ABX9TyMdNUB7Fu/YjGk27ja7vwxK",
   "mount_file_id": "1TK_IXS4AZqu1YCoyXtehZJThU0krPDgM",
   "name": "Random Forest.ipynb",
   "provenance": []
  },
  "kernelspec": {
   "display_name": "Python 3",
   "language": "python",
   "name": "python3"
  },
  "language_info": {
   "codemirror_mode": {
    "name": "ipython",
    "version": 3
   },
   "file_extension": ".py",
   "mimetype": "text/x-python",
   "name": "python",
   "nbconvert_exporter": "python",
   "pygments_lexer": "ipython3",
   "version": "3.8.5"
  }
 },
 "nbformat": 4,
 "nbformat_minor": 1
}
